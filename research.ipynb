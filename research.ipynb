{
 "cells": [
  {
   "cell_type": "markdown",
   "metadata": {},
   "source": [
    "# Introduction to Data Science Course - Final Project\n",
    "\n",
    "#### Research Question:\n",
    "Is it possible to predict whether the stock price will go up or down based on its annual financial report.\n",
    "\n",
    "\n",
    "#### ML Area:\n",
    "Classification"
   ]
  },
  {
   "cell_type": "code",
   "execution_count": 2,
   "metadata": {},
   "outputs": [],
   "source": [
    "import os\n",
    "import datetime\n",
    "\n",
    "import numpy as np\n",
    "import pandas as pd\n",
    "import pandas_datareader.data as web\n",
    "import matplotlib.pyplot as plt\n",
    "import seaborn as sns\n",
    "%matplotlib inline\n",
    "\n",
    "from selenium import webdriver\n",
    "from selenium.webdriver.common.keys import Keys\n",
    "from selenium.webdriver.common.by import By\n",
    "from selenium.webdriver.support.ui import WebDriverWait\n",
    "from selenium.webdriver.support import expected_conditions as EC\n",
    "\n",
    "\n",
    "from sklearn.model_selection import train_test_split\n",
    "# --------scalers\n",
    "from sklearn.preprocessing import StandardScaler, MinMaxScaler\n",
    "# --------cross-validation\n",
    "from sklearn.model_selection import cross_val_score\n",
    "from sklearn.model_selection import GridSearchCV\n",
    "# -------- classification\n",
    "# *** Logistic Regression\n",
    "from sklearn.linear_model import LogisticRegression\n",
    "# *** KNN\n",
    "from sklearn.neighbors import KNeighborsClassifier\n",
    "# *** Decision Tree; Random Forest\n",
    "from sklearn.tree import DecisionTreeClassifier\n",
    "from sklearn.ensemble import RandomForestClassifier\n",
    "# *** Naive Bayes\n",
    "from sklearn.naive_bayes import GaussianNB\n",
    "# *** SVM classifier\n",
    "from sklearn.svm import SVC\n",
    "# --------  metrics:\n",
    "from sklearn import metrics\n",
    "from sklearn.metrics import accuracy_score, precision_score, recall_score, f1_score, confusion_matrix\n",
    "from sklearn.metrics import make_scorer\n",
    "\n",
    "\n",
    "import xgboost as xgb"
   ]
  },
  {
   "cell_type": "code",
   "execution_count": 3,
   "metadata": {},
   "outputs": [],
   "source": [
    "sp500 = pd.read_html('https://en.wikipedia.org/wiki/List_of_S%26P_500_companies')[0]\n",
    "sp500Symbols = sorted(list(sp500['Symbol']))\n",
    "\n",
    "sp400 = pd.read_html('https://en.wikipedia.org/wiki/List_of_S%26P_400_companies')[0]\n",
    "sp400Symbols = sorted(list(sp400['Ticker symbol']))\n",
    "\n",
    "sp600 = pd.read_html('https://en.wikipedia.org/wiki/List_of_S%26P_600_companies')[1]\n",
    "sp600Symbols = sorted(list(sp600['Ticker symbol']))\n",
    "\n",
    "spSymbols = sp500Symbols + sp400Symbols + sp600Symbols\n",
    "\n",
    "testSymbols = ['ABC']\n",
    "currentDate = datetime.date.today()"
   ]
  },
  {
   "cell_type": "markdown",
   "metadata": {},
   "source": [
    "# Data Collection"
   ]
  },
  {
   "cell_type": "code",
   "execution_count": 4,
   "metadata": {},
   "outputs": [],
   "source": [
    "# Using Selenium to scrap the finnacial reports of each stock for \"Seeking Alpha\"\n",
    "def get_financial_data(symbol):\n",
    "    driver = webdriver.Chrome(executable_path=\"../chromedriver\")\n",
    "    driver.implicitly_wait(10)\n",
    "    url = 'https://seekingalpha.com/symbol/' + symbol + '/income-statement'\n",
    "    driver.get(url)\n",
    "\n",
    "    # Getting a list of the dates\n",
    "    dates_row = driver.find_element_by_class_name('dates-row')\n",
    "    dates_list = dates_row.find_elements_by_tag_name(\"li\")\n",
    "    for i in range(len(dates_list)):\n",
    "        dates_list[i] = dates_list[i].get_attribute('innerHTML')\n",
    "    \n",
    "    elem = driver.find_element_by_id('financials-tab')\n",
    "    abs_html = elem.get_attribute('innerHTML')\n",
    "    \n",
    "    # Changing to YoY view\n",
    "    view_arrow = driver.find_elements_by_class_name('select2-selection__arrow')[1]\n",
    "    view_arrow.click()\n",
    "    yoy_button = WebDriverWait(driver, 10).until(EC.presence_of_element_located(\n",
    "        (By.XPATH, \"//li[contains(text(),'YoY Growth')]\")))\n",
    "    yoy_button.click()\n",
    "    \n",
    "    elem = driver.find_element_by_id('financials-tab')\n",
    "    yoy_html = elem.get_attribute('innerHTML')\n",
    "    \n",
    "    driver.quit()\n",
    "    return (pd.read_html(abs_html), pd.read_html(yoy_html), dates_list)\n",
    "\n",
    "# Cleaning the \"incomce statement\" column\n",
    "def clean_income_statement(statement):\n",
    "    if (statement[-30:] == \"  Created with Highstock 6.1.4\"):\n",
    "        return statement[:len(statement) - 30]\n",
    "    else:\n",
    "        return statement\n",
    "\n",
    "# Clean the whole data\n",
    "def clean_data(df):\n",
    "    df.replace('-',np.nan,inplace=True)\n",
    "    df.dropna(how='all', inplace=True)\n",
    "    df.dropna(axis=1, how='all', inplace=True)\n",
    "    df['Income Statement'] = df['Income Statement'].apply(clean_income_statement)\n",
    "    df.set_index('Income Statement', inplace=True)\n",
    "    df.dropna(how='all', inplace=True)\n",
    "    return df[~df.index.duplicated(keep='last')]"
   ]
  },
  {
   "cell_type": "code",
   "execution_count": null,
   "metadata": {},
   "outputs": [],
   "source": [
    "# Running the data scraper function on whole of the SP500 / SP400 / SP600 stocks\n",
    "for symbol in sp400Symbols:\n",
    "    abs_tables, yoy_tables, dates = get_financial_data(symbol)\n",
    "\n",
    "    # Taking care of Absolute tables\n",
    "    for table in abs_tables:\n",
    "        table.columns = dates\n",
    "        \n",
    "    abs_df = pd.concat(abs_tables)\n",
    "    \n",
    "    abs_df = clean_data(abs_df)\n",
    "    \n",
    "    abs_df.to_csv(f'Stocks_Data\\sp400\\{symbol}_Absolute.csv')\n",
    "    \n",
    "    # Taking care of YoY tables\n",
    "    for table in yoy_tables:\n",
    "        table.columns = dates\n",
    "        \n",
    "    yoy_df = pd.concat(yoy_tables)\n",
    "\n",
    "    yoy_df = clean_data(yoy_df)\n",
    "    \n",
    "    yoy_df.to_csv(f'Stocks_Data\\sp400\\{symbol}_YoY.csv')"
   ]
  },
  {
   "cell_type": "markdown",
   "metadata": {},
   "source": [
    "# Data Processing"
   ]
  },
  {
   "cell_type": "code",
   "execution_count": 5,
   "metadata": {},
   "outputs": [],
   "source": [
    "# Aggregating the Data Frames into one\n",
    "def agg_df():\n",
    "    yoy_agg_df = pd.DataFrame()\n",
    "    abs_agg_df = pd.DataFrame()\n",
    "    agg_errors = []\n",
    "\n",
    "    for folder in os.listdir('Stocks_Data'):\n",
    "        folder_path = os.path.join('Stocks_Data',folder)\n",
    "        for file in os.listdir(folder_path):\n",
    "            symbol, view = file.split('_')\n",
    "            file_path = os.path.join(f'Stocks_Data\\{folder}',file)\n",
    "            next_df = pd.read_csv(file_path)\n",
    "            next_df.set_index('Income Statement',inplace=True)\n",
    "            next_df = next_df.T\n",
    "            next_df['Symbol'] = [symbol for x in next_df.index]\n",
    "            if view[:3] == 'YoY':\n",
    "                try:\n",
    "                    yoy_agg_df = pd.concat([yoy_agg_df, next_df.iloc[:-1]])\n",
    "                except:\n",
    "                    agg_errors.append(file)\n",
    "                    continue\n",
    "            else:\n",
    "                try:\n",
    "                    abs_agg_df = pd.concat([abs_agg_df, next_df.iloc[:-1]])\n",
    "                except:\n",
    "                    agg_errors.append(file)\n",
    "                    continue\n",
    "    \n",
    "    abs_agg_df.index.name = 'Date'\n",
    "    yoy_agg_df.index.name = 'Date'\n",
    "    \n",
    "    return abs_agg_df, yoy_agg_df, agg_errors\n",
    "\n",
    "# Checking whether the stock price went up(1) or down / didn't changed(0)\n",
    "def check_prices(df :pd.DataFrame):\n",
    "    df[['Price Before', 'Price After','Change']] = np.nan\n",
    "    df.index = pd.to_datetime(df.index)\n",
    "    df.reset_index(inplace=True)\n",
    "    \n",
    "    prices_errors = []\n",
    "    symbol = \"\"\n",
    "    for index, row in df.iterrows():\n",
    "        try:\n",
    "            if symbol != row['Symbol']:\n",
    "                print(row['Symbol'], end=\"\\r\")\n",
    "                symbol = row['Symbol']\n",
    "                start_date = row['Date']\n",
    "                stock_data = web.DataReader(symbol, 'yahoo', start_date, currentDate)\n",
    "                stock_data_avg = stock_data.groupby(pd.Grouper(freq='MS'))['Close'].mean() # Calculating the stock price mean on the month fo the financial report\n",
    "            price_before = stock_data_avg.loc[row['Date']]\n",
    "            df.loc[index, 'Price Before'] = price_before\n",
    "            price_after = stock_data_avg.loc[row['Date'] + pd.DateOffset(months=1)] # Checking the price of the stock 1 month AFTER the finacial report\n",
    "            df.loc[index, 'Price After'] = price_after\n",
    "            if price_after > price_before * 1.01: # Checking whether the price went up by 1% atleast\n",
    "                df.loc[index, 'Change'] = 1\n",
    "            else:\n",
    "                df.loc[index, 'Change'] = 0\n",
    "        except:\n",
    "            prices_errors.append(row['Symbol'])\n",
    "            continue\n",
    "            \n",
    "    df.set_index('Date',inplace=True)\n",
    "    return df, prices_errors\n",
    "\n",
    "# Changing all the rows to numeric data\n",
    "def cols_to_numeric(df :pd.DataFrame):\n",
    "    for col in df.columns:\n",
    "        if col == \"Symbol\":\n",
    "            continue\n",
    "        df.loc[:,col] = pd.to_numeric(df[col])\n",
    "    return"
   ]
  },
  {
   "cell_type": "markdown",
   "metadata": {},
   "source": [
    "Aggreagte all the data we collected into singular YoY DF and Absolute DF.\n",
    "\n",
    "Save those aggregated DFs into files"
   ]
  },
  {
   "cell_type": "code",
   "execution_count": null,
   "metadata": {
    "scrolled": false
   },
   "outputs": [],
   "source": [
    "abs_agg_df, yoy_agg_df, agg_errors = agg_df()\n",
    "yoy_agg_df, prices_errors = check_prices(yoy_agg_df)\n",
    "yoy_agg_df = yoy_agg_df[~pd.isna(yoy_agg_df['Change'])] # Drop rows without any value in the \"Change\" column\n",
    "\n",
    "abs_agg_df.to_csv('Absolute_Aggregate.csv')\n",
    "yoy_agg_df.to_csv('YoY_Aggregate.csv')"
   ]
  },
  {
   "cell_type": "code",
   "execution_count": null,
   "metadata": {
    "scrolled": false
   },
   "outputs": [],
   "source": [
    "agg_errors # Checking that all the data got aggregated sussesfuly"
   ]
  },
  {
   "cell_type": "code",
   "execution_count": null,
   "metadata": {},
   "outputs": [],
   "source": [
    "prices_errors # Checking which symbols got errors when trying to get their stock price"
   ]
  },
  {
   "cell_type": "markdown",
   "metadata": {},
   "source": [
    "Loading the aggregated data that we saved"
   ]
  },
  {
   "cell_type": "code",
   "execution_count": 6,
   "metadata": {},
   "outputs": [
    {
     "name": "stderr",
     "output_type": "stream",
     "text": [
      "C:\\ProgramData\\Anaconda3\\lib\\site-packages\\IPython\\core\\interactiveshell.py:3146: DtypeWarning: Columns (8,15,24,38,40,41,56,62,68,76,82,83,88,93,94,102,103,106,123,129,131,134) have mixed types.Specify dtype option on import or set low_memory=False.\n",
      "  has_raised = await self.run_ast_nodes(code_ast.body, cell_name,\n"
     ]
    }
   ],
   "source": [
    "abs_agg_df = pd.read_csv('Absolute_Aggregate.csv')\n",
    "abs_agg_df.set_index('Date',inplace=True)\n",
    "\n",
    "yoy_agg_df = pd.read_csv('YoY_Aggregate.csv')\n",
    "yoy_agg_df.set_index('Date',inplace=True)"
   ]
  },
  {
   "cell_type": "markdown",
   "metadata": {},
   "source": [
    "#### Cleaing Absoulte Aggregated Data Frame"
   ]
  },
  {
   "cell_type": "code",
   "execution_count": 7,
   "metadata": {},
   "outputs": [],
   "source": [
    "abs_agg_df_filtered = abs_agg_df.dropna(axis = 1,thresh=2250) # Droping all the columns that doesn't have ATLEAST 2250 values"
   ]
  },
  {
   "cell_type": "code",
   "execution_count": 8,
   "metadata": {},
   "outputs": [
    {
     "name": "stderr",
     "output_type": "stream",
     "text": [
      "C:\\ProgramData\\Anaconda3\\lib\\site-packages\\pandas\\core\\frame.py:4379: SettingWithCopyWarning: \n",
      "A value is trying to be set on a copy of a slice from a DataFrame\n",
      "\n",
      "See the caveats in the documentation: https://pandas.pydata.org/pandas-docs/stable/user_guide/indexing.html#returning-a-view-versus-a-copy\n",
      "  return super().replace(\n"
     ]
    }
   ],
   "source": [
    "# Dealing with minus values, cutting off the bracekts and adding \"-\" sign\n",
    "abs_agg_df_filtered.replace(r'\\(\\$?(\\d*,?\\d*\\.?\\d*)\\)', r'-\\1',regex=True, inplace=True)\n",
    "# Cutting off '$', '%' and ',' signs\n",
    "abs_agg_df_filtered.replace(r'\\$|\\%|\\,', '',regex=True, inplace=True)\n",
    "# Changing \"NM\" to \"0\"\n",
    "abs_agg_df_filtered.replace(r'^NM$', '0',regex=True, inplace=True)"
   ]
  },
  {
   "cell_type": "code",
   "execution_count": 9,
   "metadata": {},
   "outputs": [
    {
     "name": "stderr",
     "output_type": "stream",
     "text": [
      "C:\\ProgramData\\Anaconda3\\lib\\site-packages\\pandas\\core\\indexing.py:1745: SettingWithCopyWarning: \n",
      "A value is trying to be set on a copy of a slice from a DataFrame.\n",
      "Try using .loc[row_indexer,col_indexer] = value instead\n",
      "\n",
      "See the caveats in the documentation: https://pandas.pydata.org/pandas-docs/stable/user_guide/indexing.html#returning-a-view-versus-a-copy\n",
      "  isetter(ilocs[0], value)\n"
     ]
    }
   ],
   "source": [
    "cols_to_numeric(abs_agg_df_filtered)"
   ]
  },
  {
   "cell_type": "code",
   "execution_count": 10,
   "metadata": {},
   "outputs": [
    {
     "name": "stdout",
     "output_type": "stream",
     "text": [
      "<class 'pandas.core.frame.DataFrame'>\n",
      "Index: 4511 entries, Dec 2016 to Dec 2020\n",
      "Data columns (total 38 columns):\n",
      " #   Column                                  Non-Null Count  Dtype  \n",
      "---  ------                                  --------------  -----  \n",
      " 0   Total Revenues                          4509 non-null   float64\n",
      " 1   Total Operating Expenses                4221 non-null   float64\n",
      " 2   Operating Income                        4226 non-null   float64\n",
      " 3   Net Interest Expenses                   3936 non-null   float64\n",
      " 4   EBT, Excl. Unusual Items                4511 non-null   float64\n",
      " 5   EBT, Incl. Unusual Items                4511 non-null   float64\n",
      " 6   Income Tax Expense                      4412 non-null   float64\n",
      " 7   Earnings From Continuing Operations     4511 non-null   float64\n",
      " 8   Net Income to Company                   4511 non-null   float64\n",
      " 9   Net Income                              4511 non-null   float64\n",
      " 10  NI to Common Incl Extra Items           4226 non-null   float64\n",
      " 11  NI to Common Excl. Extra Items          4226 non-null   float64\n",
      " 12  Revenue Per Share                       4497 non-null   float64\n",
      " 13  Basic EPS                               4499 non-null   float64\n",
      " 14  Basic EPS - Continuing Ops              4499 non-null   float64\n",
      " 15  Basic Weighted Average Shares Outst.    4499 non-null   float64\n",
      " 16  Diluted EPS                             4499 non-null   float64\n",
      " 17  Diluted EPS - Continuing Ops            4499 non-null   float64\n",
      " 18  Diluted Weighted Average Shares Outst.  4499 non-null   float64\n",
      " 19  Normalized Basic EPS                    4499 non-null   float64\n",
      " 20  Normalized Diluted EPS                  4499 non-null   float64\n",
      " 21  Dividend Per Share                      3310 non-null   float64\n",
      " 22  Payout Ratio                            3376 non-null   float64\n",
      " 23  EBITDA                                  4162 non-null   float64\n",
      " 24  EBITA                                   4171 non-null   float64\n",
      " 25  EBIT                                    4171 non-null   float64\n",
      " 26  EBITDAR                                 3397 non-null   float64\n",
      " 27  Effective Tax Rate                      4412 non-null   float64\n",
      " 28  Normalized Net Income                   4511 non-null   float64\n",
      " 29  Symbol                                  4511 non-null   object \n",
      " 30  Revenues                                3633 non-null   float64\n",
      " 31  Cost Of Revenues                        3398 non-null   float64\n",
      " 32  Gross Profit                            3419 non-null   float64\n",
      " 33  Selling General & Admin Expenses        3515 non-null   float64\n",
      " 34  Interest Expense                        3204 non-null   float64\n",
      " 35  Foreign Sales                           2908 non-null   float64\n",
      " 36  Interest And Investment Income          2351 non-null   float64\n",
      " 37  Other Non Operating Income (Expenses)   2513 non-null   float64\n",
      "dtypes: float64(37), object(1)\n",
      "memory usage: 1.3+ MB\n"
     ]
    }
   ],
   "source": [
    "abs_agg_df_filtered.info()"
   ]
  },
  {
   "cell_type": "markdown",
   "metadata": {},
   "source": []
  },
  {
   "cell_type": "markdown",
   "metadata": {},
   "source": [
    "#### Cleaning YoY Aggregated Data Frame"
   ]
  },
  {
   "cell_type": "code",
   "execution_count": 11,
   "metadata": {},
   "outputs": [],
   "source": [
    "yoy_agg_df_filtered = yoy_agg_df.dropna(axis = 1,thresh=3200) # Droping all the columns that doesn't have ATLEAST 3200 values"
   ]
  },
  {
   "cell_type": "code",
   "execution_count": 12,
   "metadata": {},
   "outputs": [
    {
     "name": "stderr",
     "output_type": "stream",
     "text": [
      "C:\\ProgramData\\Anaconda3\\lib\\site-packages\\pandas\\core\\frame.py:4379: SettingWithCopyWarning: \n",
      "A value is trying to be set on a copy of a slice from a DataFrame\n",
      "\n",
      "See the caveats in the documentation: https://pandas.pydata.org/pandas-docs/stable/user_guide/indexing.html#returning-a-view-versus-a-copy\n",
      "  return super().replace(\n"
     ]
    }
   ],
   "source": [
    "yoy_agg_df_filtered.replace(r'\\$|\\%|\\,', '',regex=True, inplace=True)\n",
    "yoy_agg_df_filtered.replace(r'\\(\\$?(\\d*,?\\d*\\.?\\d*)\\)', r'-\\1',regex=True, inplace=True)"
   ]
  },
  {
   "cell_type": "code",
   "execution_count": 13,
   "metadata": {},
   "outputs": [
    {
     "name": "stderr",
     "output_type": "stream",
     "text": [
      "C:\\ProgramData\\Anaconda3\\lib\\site-packages\\pandas\\core\\indexing.py:1745: SettingWithCopyWarning: \n",
      "A value is trying to be set on a copy of a slice from a DataFrame.\n",
      "Try using .loc[row_indexer,col_indexer] = value instead\n",
      "\n",
      "See the caveats in the documentation: https://pandas.pydata.org/pandas-docs/stable/user_guide/indexing.html#returning-a-view-versus-a-copy\n",
      "  isetter(ilocs[0], value)\n"
     ]
    }
   ],
   "source": [
    "cols_to_numeric(yoy_agg_df_filtered)"
   ]
  },
  {
   "cell_type": "code",
   "execution_count": 14,
   "metadata": {},
   "outputs": [
    {
     "name": "stdout",
     "output_type": "stream",
     "text": [
      "<class 'pandas.core.frame.DataFrame'>\n",
      "Index: 3568 entries, 2017-12-01 to 2020-12-01\n",
      "Data columns (total 16 columns):\n",
      " #   Column                                  Non-Null Count  Dtype  \n",
      "---  ------                                  --------------  -----  \n",
      " 0   Total Revenues                          3565 non-null   float64\n",
      " 1   Total Operating Expenses                3335 non-null   float64\n",
      " 2   Operating Income                        3202 non-null   float64\n",
      " 3   EBT, Excl. Unusual Items                3377 non-null   float64\n",
      " 4   EBT, Incl. Unusual Items                3201 non-null   float64\n",
      " 5   Revenue Per Share                       3563 non-null   float64\n",
      " 6   Basic Weighted Average Shares Outst.    3566 non-null   float64\n",
      " 7   Diluted Weighted Average Shares Outst.  3566 non-null   float64\n",
      " 8   Normalized Basic EPS                    3368 non-null   float64\n",
      " 9   Normalized Diluted EPS                  3368 non-null   float64\n",
      " 10  EBITDA                                  3223 non-null   float64\n",
      " 11  Normalized Net Income                   3370 non-null   float64\n",
      " 12  Symbol                                  3568 non-null   object \n",
      " 13  Price Before                            3568 non-null   float64\n",
      " 14  Price After                             3568 non-null   float64\n",
      " 15  Change                                  3568 non-null   float64\n",
      "dtypes: float64(15), object(1)\n",
      "memory usage: 473.9+ KB\n"
     ]
    }
   ],
   "source": [
    "yoy_agg_df_filtered.info()"
   ]
  },
  {
   "cell_type": "markdown",
   "metadata": {},
   "source": [
    "Preparing the final DF that we will perform ML on"
   ]
  },
  {
   "cell_type": "code",
   "execution_count": 15,
   "metadata": {},
   "outputs": [],
   "source": [
    "final_yoy_agg_df = yoy_agg_df_filtered.dropna() # Dropping all the rows with missing values"
   ]
  },
  {
   "cell_type": "code",
   "execution_count": 16,
   "metadata": {},
   "outputs": [
    {
     "name": "stdout",
     "output_type": "stream",
     "text": [
      "<class 'pandas.core.frame.DataFrame'>\n",
      "Index: 2858 entries, 2017-12-01 to 2020-12-01\n",
      "Data columns (total 16 columns):\n",
      " #   Column                                  Non-Null Count  Dtype  \n",
      "---  ------                                  --------------  -----  \n",
      " 0   Total Revenues                          2858 non-null   float64\n",
      " 1   Total Operating Expenses                2858 non-null   float64\n",
      " 2   Operating Income                        2858 non-null   float64\n",
      " 3   EBT, Excl. Unusual Items                2858 non-null   float64\n",
      " 4   EBT, Incl. Unusual Items                2858 non-null   float64\n",
      " 5   Revenue Per Share                       2858 non-null   float64\n",
      " 6   Basic Weighted Average Shares Outst.    2858 non-null   float64\n",
      " 7   Diluted Weighted Average Shares Outst.  2858 non-null   float64\n",
      " 8   Normalized Basic EPS                    2858 non-null   float64\n",
      " 9   Normalized Diluted EPS                  2858 non-null   float64\n",
      " 10  EBITDA                                  2858 non-null   float64\n",
      " 11  Normalized Net Income                   2858 non-null   float64\n",
      " 12  Symbol                                  2858 non-null   object \n",
      " 13  Price Before                            2858 non-null   float64\n",
      " 14  Price After                             2858 non-null   float64\n",
      " 15  Change                                  2858 non-null   float64\n",
      "dtypes: float64(15), object(1)\n",
      "memory usage: 379.6+ KB\n"
     ]
    }
   ],
   "source": [
    "final_yoy_agg_df.info()"
   ]
  },
  {
   "cell_type": "code",
   "execution_count": 17,
   "metadata": {},
   "outputs": [
    {
     "data": {
      "text/html": [
       "<div>\n",
       "<style scoped>\n",
       "    .dataframe tbody tr th:only-of-type {\n",
       "        vertical-align: middle;\n",
       "    }\n",
       "\n",
       "    .dataframe tbody tr th {\n",
       "        vertical-align: top;\n",
       "    }\n",
       "\n",
       "    .dataframe thead th {\n",
       "        text-align: right;\n",
       "    }\n",
       "</style>\n",
       "<table border=\"1\" class=\"dataframe\">\n",
       "  <thead>\n",
       "    <tr style=\"text-align: right;\">\n",
       "      <th></th>\n",
       "      <th>Total Revenues</th>\n",
       "      <th>Total Operating Expenses</th>\n",
       "      <th>Operating Income</th>\n",
       "      <th>EBT, Excl. Unusual Items</th>\n",
       "      <th>EBT, Incl. Unusual Items</th>\n",
       "      <th>Revenue Per Share</th>\n",
       "      <th>Basic Weighted Average Shares Outst.</th>\n",
       "      <th>Diluted Weighted Average Shares Outst.</th>\n",
       "      <th>Normalized Basic EPS</th>\n",
       "      <th>Normalized Diluted EPS</th>\n",
       "      <th>EBITDA</th>\n",
       "      <th>Normalized Net Income</th>\n",
       "      <th>Symbol</th>\n",
       "      <th>Price Before</th>\n",
       "      <th>Price After</th>\n",
       "      <th>Change</th>\n",
       "    </tr>\n",
       "    <tr>\n",
       "      <th>Date</th>\n",
       "      <th></th>\n",
       "      <th></th>\n",
       "      <th></th>\n",
       "      <th></th>\n",
       "      <th></th>\n",
       "      <th></th>\n",
       "      <th></th>\n",
       "      <th></th>\n",
       "      <th></th>\n",
       "      <th></th>\n",
       "      <th></th>\n",
       "      <th></th>\n",
       "      <th></th>\n",
       "      <th></th>\n",
       "      <th></th>\n",
       "      <th></th>\n",
       "    </tr>\n",
       "  </thead>\n",
       "  <tbody>\n",
       "    <tr>\n",
       "      <th>2017-12-01</th>\n",
       "      <td>1.28</td>\n",
       "      <td>4.23</td>\n",
       "      <td>-8.80</td>\n",
       "      <td>-6.85</td>\n",
       "      <td>-30.13</td>\n",
       "      <td>-3.23</td>\n",
       "      <td>4.58</td>\n",
       "      <td>4.60</td>\n",
       "      <td>-9.67</td>\n",
       "      <td>-10.25</td>\n",
       "      <td>1.27</td>\n",
       "      <td>-6.23</td>\n",
       "      <td>ACC</td>\n",
       "      <td>42.088500</td>\n",
       "      <td>39.309524</td>\n",
       "      <td>0.0</td>\n",
       "    </tr>\n",
       "    <tr>\n",
       "      <th>2018-12-01</th>\n",
       "      <td>10.59</td>\n",
       "      <td>12.06</td>\n",
       "      <td>4.87</td>\n",
       "      <td>-22.06</td>\n",
       "      <td>70.94</td>\n",
       "      <td>9.30</td>\n",
       "      <td>1.24</td>\n",
       "      <td>1.26</td>\n",
       "      <td>-25.90</td>\n",
       "      <td>-24.59</td>\n",
       "      <td>9.10</td>\n",
       "      <td>-24.17</td>\n",
       "      <td>ACC</td>\n",
       "      <td>42.463684</td>\n",
       "      <td>43.227618</td>\n",
       "      <td>1.0</td>\n",
       "    </tr>\n",
       "    <tr>\n",
       "      <th>2019-12-01</th>\n",
       "      <td>7.07</td>\n",
       "      <td>4.98</td>\n",
       "      <td>15.78</td>\n",
       "      <td>18.46</td>\n",
       "      <td>-27.38</td>\n",
       "      <td>6.66</td>\n",
       "      <td>0.35</td>\n",
       "      <td>0.41</td>\n",
       "      <td>19.94</td>\n",
       "      <td>19.08</td>\n",
       "      <td>8.93</td>\n",
       "      <td>19.89</td>\n",
       "      <td>ACC</td>\n",
       "      <td>46.831904</td>\n",
       "      <td>46.125238</td>\n",
       "      <td>0.0</td>\n",
       "    </tr>\n",
       "    <tr>\n",
       "      <th>2020-12-01</th>\n",
       "      <td>-7.68</td>\n",
       "      <td>-2.04</td>\n",
       "      <td>-29.03</td>\n",
       "      <td>-69.96</td>\n",
       "      <td>-19.34</td>\n",
       "      <td>-7.90</td>\n",
       "      <td>0.21</td>\n",
       "      <td>0.31</td>\n",
       "      <td>-63.01</td>\n",
       "      <td>-63.31</td>\n",
       "      <td>-13.68</td>\n",
       "      <td>-63.11</td>\n",
       "      <td>ACC</td>\n",
       "      <td>42.595000</td>\n",
       "      <td>41.870000</td>\n",
       "      <td>0.0</td>\n",
       "    </tr>\n",
       "    <tr>\n",
       "      <th>2017-12-01</th>\n",
       "      <td>0.90</td>\n",
       "      <td>5.85</td>\n",
       "      <td>-1.63</td>\n",
       "      <td>-0.93</td>\n",
       "      <td>618.55</td>\n",
       "      <td>-0.55</td>\n",
       "      <td>1.46</td>\n",
       "      <td>1.27</td>\n",
       "      <td>-3.32</td>\n",
       "      <td>-2.95</td>\n",
       "      <td>0.11</td>\n",
       "      <td>-1.95</td>\n",
       "      <td>ACHC</td>\n",
       "      <td>32.072500</td>\n",
       "      <td>33.693334</td>\n",
       "      <td>1.0</td>\n",
       "    </tr>\n",
       "    <tr>\n",
       "      <th>...</th>\n",
       "      <td>...</td>\n",
       "      <td>...</td>\n",
       "      <td>...</td>\n",
       "      <td>...</td>\n",
       "      <td>...</td>\n",
       "      <td>...</td>\n",
       "      <td>...</td>\n",
       "      <td>...</td>\n",
       "      <td>...</td>\n",
       "      <td>...</td>\n",
       "      <td>...</td>\n",
       "      <td>...</td>\n",
       "      <td>...</td>\n",
       "      <td>...</td>\n",
       "      <td>...</td>\n",
       "      <td>...</td>\n",
       "    </tr>\n",
       "    <tr>\n",
       "      <th>2020-12-01</th>\n",
       "      <td>-0.82</td>\n",
       "      <td>-4.22</td>\n",
       "      <td>-5.39</td>\n",
       "      <td>-5.91</td>\n",
       "      <td>-6.35</td>\n",
       "      <td>0.19</td>\n",
       "      <td>-1.02</td>\n",
       "      <td>-1.25</td>\n",
       "      <td>-4.99</td>\n",
       "      <td>-4.77</td>\n",
       "      <td>-7.56</td>\n",
       "      <td>-5.91</td>\n",
       "      <td>ZBRA</td>\n",
       "      <td>377.428181</td>\n",
       "      <td>401.101055</td>\n",
       "      <td>1.0</td>\n",
       "    </tr>\n",
       "    <tr>\n",
       "      <th>2017-12-01</th>\n",
       "      <td>8.57</td>\n",
       "      <td>1.18</td>\n",
       "      <td>19.40</td>\n",
       "      <td>21.80</td>\n",
       "      <td>24.19</td>\n",
       "      <td>9.86</td>\n",
       "      <td>-1.17</td>\n",
       "      <td>-1.02</td>\n",
       "      <td>23.13</td>\n",
       "      <td>23.07</td>\n",
       "      <td>15.91</td>\n",
       "      <td>21.75</td>\n",
       "      <td>ZTS</td>\n",
       "      <td>72.019499</td>\n",
       "      <td>75.964762</td>\n",
       "      <td>1.0</td>\n",
       "    </tr>\n",
       "    <tr>\n",
       "      <th>2018-12-01</th>\n",
       "      <td>9.76</td>\n",
       "      <td>12.96</td>\n",
       "      <td>8.18</td>\n",
       "      <td>8.92</td>\n",
       "      <td>10.82</td>\n",
       "      <td>11.34</td>\n",
       "      <td>-1.40</td>\n",
       "      <td>-1.27</td>\n",
       "      <td>10.48</td>\n",
       "      <td>10.72</td>\n",
       "      <td>10.63</td>\n",
       "      <td>9.10</td>\n",
       "      <td>ZTS</td>\n",
       "      <td>86.605790</td>\n",
       "      <td>84.647619</td>\n",
       "      <td>0.0</td>\n",
       "    </tr>\n",
       "    <tr>\n",
       "      <th>2019-12-01</th>\n",
       "      <td>7.47</td>\n",
       "      <td>10.68</td>\n",
       "      <td>10.89</td>\n",
       "      <td>11.75</td>\n",
       "      <td>6.57</td>\n",
       "      <td>8.56</td>\n",
       "      <td>-1.02</td>\n",
       "      <td>-1.05</td>\n",
       "      <td>12.52</td>\n",
       "      <td>12.68</td>\n",
       "      <td>14.06</td>\n",
       "      <td>11.34</td>\n",
       "      <td>ZTS</td>\n",
       "      <td>126.498095</td>\n",
       "      <td>136.842857</td>\n",
       "      <td>1.0</td>\n",
       "    </tr>\n",
       "    <tr>\n",
       "      <th>2020-12-01</th>\n",
       "      <td>6.63</td>\n",
       "      <td>3.91</td>\n",
       "      <td>9.73</td>\n",
       "      <td>8.22</td>\n",
       "      <td>10.83</td>\n",
       "      <td>7.24</td>\n",
       "      <td>-0.55</td>\n",
       "      <td>-0.67</td>\n",
       "      <td>8.90</td>\n",
       "      <td>9.07</td>\n",
       "      <td>8.62</td>\n",
       "      <td>8.38</td>\n",
       "      <td>ZTS</td>\n",
       "      <td>160.729546</td>\n",
       "      <td>162.592631</td>\n",
       "      <td>1.0</td>\n",
       "    </tr>\n",
       "  </tbody>\n",
       "</table>\n",
       "<p>2858 rows × 16 columns</p>\n",
       "</div>"
      ],
      "text/plain": [
       "            Total Revenues  Total Operating Expenses  Operating Income  \\\n",
       "Date                                                                     \n",
       "2017-12-01            1.28                      4.23             -8.80   \n",
       "2018-12-01           10.59                     12.06              4.87   \n",
       "2019-12-01            7.07                      4.98             15.78   \n",
       "2020-12-01           -7.68                     -2.04            -29.03   \n",
       "2017-12-01            0.90                      5.85             -1.63   \n",
       "...                    ...                       ...               ...   \n",
       "2020-12-01           -0.82                     -4.22             -5.39   \n",
       "2017-12-01            8.57                      1.18             19.40   \n",
       "2018-12-01            9.76                     12.96              8.18   \n",
       "2019-12-01            7.47                     10.68             10.89   \n",
       "2020-12-01            6.63                      3.91              9.73   \n",
       "\n",
       "            EBT, Excl. Unusual Items  EBT, Incl. Unusual Items  \\\n",
       "Date                                                             \n",
       "2017-12-01                     -6.85                    -30.13   \n",
       "2018-12-01                    -22.06                     70.94   \n",
       "2019-12-01                     18.46                    -27.38   \n",
       "2020-12-01                    -69.96                    -19.34   \n",
       "2017-12-01                     -0.93                    618.55   \n",
       "...                              ...                       ...   \n",
       "2020-12-01                     -5.91                     -6.35   \n",
       "2017-12-01                     21.80                     24.19   \n",
       "2018-12-01                      8.92                     10.82   \n",
       "2019-12-01                     11.75                      6.57   \n",
       "2020-12-01                      8.22                     10.83   \n",
       "\n",
       "            Revenue Per Share  Basic Weighted Average Shares Outst.  \\\n",
       "Date                                                                  \n",
       "2017-12-01              -3.23                                  4.58   \n",
       "2018-12-01               9.30                                  1.24   \n",
       "2019-12-01               6.66                                  0.35   \n",
       "2020-12-01              -7.90                                  0.21   \n",
       "2017-12-01              -0.55                                  1.46   \n",
       "...                       ...                                   ...   \n",
       "2020-12-01               0.19                                 -1.02   \n",
       "2017-12-01               9.86                                 -1.17   \n",
       "2018-12-01              11.34                                 -1.40   \n",
       "2019-12-01               8.56                                 -1.02   \n",
       "2020-12-01               7.24                                 -0.55   \n",
       "\n",
       "            Diluted Weighted Average Shares Outst.  Normalized Basic EPS  \\\n",
       "Date                                                                       \n",
       "2017-12-01                                    4.60                 -9.67   \n",
       "2018-12-01                                    1.26                -25.90   \n",
       "2019-12-01                                    0.41                 19.94   \n",
       "2020-12-01                                    0.31                -63.01   \n",
       "2017-12-01                                    1.27                 -3.32   \n",
       "...                                            ...                   ...   \n",
       "2020-12-01                                   -1.25                 -4.99   \n",
       "2017-12-01                                   -1.02                 23.13   \n",
       "2018-12-01                                   -1.27                 10.48   \n",
       "2019-12-01                                   -1.05                 12.52   \n",
       "2020-12-01                                   -0.67                  8.90   \n",
       "\n",
       "            Normalized Diluted EPS  EBITDA  Normalized Net Income Symbol  \\\n",
       "Date                                                                       \n",
       "2017-12-01                  -10.25    1.27                  -6.23    ACC   \n",
       "2018-12-01                  -24.59    9.10                 -24.17    ACC   \n",
       "2019-12-01                   19.08    8.93                  19.89    ACC   \n",
       "2020-12-01                  -63.31  -13.68                 -63.11    ACC   \n",
       "2017-12-01                   -2.95    0.11                  -1.95   ACHC   \n",
       "...                            ...     ...                    ...    ...   \n",
       "2020-12-01                   -4.77   -7.56                  -5.91   ZBRA   \n",
       "2017-12-01                   23.07   15.91                  21.75    ZTS   \n",
       "2018-12-01                   10.72   10.63                   9.10    ZTS   \n",
       "2019-12-01                   12.68   14.06                  11.34    ZTS   \n",
       "2020-12-01                    9.07    8.62                   8.38    ZTS   \n",
       "\n",
       "            Price Before  Price After  Change  \n",
       "Date                                           \n",
       "2017-12-01     42.088500    39.309524     0.0  \n",
       "2018-12-01     42.463684    43.227618     1.0  \n",
       "2019-12-01     46.831904    46.125238     0.0  \n",
       "2020-12-01     42.595000    41.870000     0.0  \n",
       "2017-12-01     32.072500    33.693334     1.0  \n",
       "...                  ...          ...     ...  \n",
       "2020-12-01    377.428181   401.101055     1.0  \n",
       "2017-12-01     72.019499    75.964762     1.0  \n",
       "2018-12-01     86.605790    84.647619     0.0  \n",
       "2019-12-01    126.498095   136.842857     1.0  \n",
       "2020-12-01    160.729546   162.592631     1.0  \n",
       "\n",
       "[2858 rows x 16 columns]"
      ]
     },
     "execution_count": 17,
     "metadata": {},
     "output_type": "execute_result"
    }
   ],
   "source": [
    "final_yoy_agg_df"
   ]
  },
  {
   "cell_type": "markdown",
   "metadata": {},
   "source": [
    "# EDA - Final YoY Aggregated DF"
   ]
  },
  {
   "cell_type": "code",
   "execution_count": 19,
   "metadata": {
    "scrolled": false
   },
   "outputs": [
    {
     "data": {
      "image/png": "[encoded data removed]",
      "text/plain": [
       "<Figure size 432x288 with 1 Axes>"
      ]
     },
     "metadata": {},
     "output_type": "display_data"
    },
    {
     "data": {
      "image/png": "[encoded data removed]",
      "text/plain": [
       "<Figure size 432x288 with 1 Axes>"
      ]
     },
     "metadata": {},
     "output_type": "display_data"
    },
    {
     "data": {
      "image/png": "[encoded data removed]",
      "text/plain": [
       "<Figure size 432x288 with 1 Axes>"
      ]
     },
     "metadata": {},
     "output_type": "display_data"
    },
    {
     "data": {
      "image/png": "[encoded data removed]",
      "text/plain": [
       "<Figure size 432x288 with 1 Axes>"
      ]
     },
     "metadata": {},
     "output_type": "display_data"
    }
   ],
   "source": [
    "final_yoy_agg_df[final_yoy_agg_df.index <= '2017-12-31'].groupby('Change').count().plot.pie(y='Total Revenues', autopct='%1.1f%%')\n",
    "plt.ylabel(\"\")\n",
    "plt.title(\"Change values at 2017\")\n",
    "plt.tight_layout()\n",
    "\n",
    "final_yoy_agg_df[(final_yoy_agg_df.index > '2017-12-31') & (final_yoy_agg_df.index <= '2018-12-31')].groupby('Change').count().plot.pie(y='Total Revenues', autopct='%1.1f%%')\n",
    "plt.ylabel(\"\")\n",
    "plt.title(\"Change values at 2018\")\n",
    "plt.tight_layout()\n",
    "\n",
    "final_yoy_agg_df[(final_yoy_agg_df.index > '2018-12-31') & (final_yoy_agg_df.index <= '2019-12-31')].groupby('Change').count().plot.pie(y='Total Revenues', autopct='%1.1f%%')\n",
    "plt.ylabel(\"\")\n",
    "plt.title(\"Change values at 2019\")\n",
    "plt.tight_layout()\n",
    "\n",
    "final_yoy_agg_df[(final_yoy_agg_df.index > '2019-12-31') & (final_yoy_agg_df.index <= '2020-12-31')].groupby('Change').count().plot.pie(y='Total Revenues', autopct='%1.1f%%')\n",
    "plt.ylabel(\"\")\n",
    "plt.title(\"Change values at 2020\")\n",
    "plt.tight_layout()"
   ]
  },
  {
   "cell_type": "code",
   "execution_count": 51,
   "metadata": {},
   "outputs": [
    {
     "data": {
      "text/plain": [
       "<seaborn.axisgrid.JointGrid at 0x1714aea2ee0>"
      ]
     },
     "execution_count": 51,
     "metadata": {},
     "output_type": "execute_result"
    },
    {
     "data": {
      "image/png": "[encoded data removed]",
      "text/plain": [
       "<Figure size 432x432 with 3 Axes>"
      ]
     },
     "metadata": {
      "needs_background": "light"
     },
     "output_type": "display_data"
    }
   ],
   "source": [
    "sns.jointplot(x='Total Revenues',y='Operating Income', hue='Change', data=final_yoy_agg_df,kind='scatter')"
   ]
  },
  {
   "cell_type": "code",
   "execution_count": 18,
   "metadata": {
    "scrolled": false
   },
   "outputs": [
    {
     "data": {
      "text/plain": [
       "<AxesSubplot:>"
      ]
     },
     "execution_count": 18,
     "metadata": {},
     "output_type": "execute_result"
    },
    {
     "data": {
      "image/png": "[encoded data removed]",
      "text/plain": [
       "<Figure size 864x864 with 2 Axes>"
      ]
     },
     "metadata": {
      "needs_background": "light"
     },
     "output_type": "display_data"
    }
   ],
   "source": [
    "fig, ax = plt.subplots(figsize=(12,12))\n",
    "sns.heatmap(final_yoy_agg_df.corr(),cmap='coolwarm',annot=True, ax=ax)"
   ]
  },
  {
   "cell_type": "markdown",
   "metadata": {},
   "source": [
    "# Machine Learning"
   ]
  },
  {
   "cell_type": "code",
   "execution_count": 15,
   "metadata": {},
   "outputs": [],
   "source": [
    "def load_dataset(df :pd.DataFrame, label_column :str, non_relevant_cols :list):\n",
    "    TRAINING_FEATURES = df.columns[df.columns != label_column]\n",
    "    TARGET_FEATURE = label_column\n",
    "\n",
    "    X = df[TRAINING_FEATURES]\n",
    "    X.drop(non_relevant_cols, axis=1, inplace=True)\n",
    "    y = df[TARGET_FEATURE]\n",
    "    return X, y"
   ]
  },
  {
   "cell_type": "code",
   "execution_count": 16,
   "metadata": {},
   "outputs": [
    {
     "name": "stderr",
     "output_type": "stream",
     "text": [
      "C:\\ProgramData\\Anaconda3\\lib\\site-packages\\pandas\\core\\frame.py:4163: SettingWithCopyWarning: \n",
      "A value is trying to be set on a copy of a slice from a DataFrame\n",
      "\n",
      "See the caveats in the documentation: https://pandas.pydata.org/pandas-docs/stable/user_guide/indexing.html#returning-a-view-versus-a-copy\n",
      "  return super().drop(\n"
     ]
    }
   ],
   "source": [
    "X, y = load_dataset(final_yoy_agg_df, 'Change', ['Symbol', 'Price Before', 'Price After'])"
   ]
  },
  {
   "cell_type": "markdown",
   "metadata": {},
   "source": [
    "## Random Split"
   ]
  },
  {
   "cell_type": "code",
   "execution_count": 17,
   "metadata": {},
   "outputs": [],
   "source": [
    "X_train, X_test, y_train, y_test = train_test_split(X, y, test_size=0.2, random_state=41)"
   ]
  },
  {
   "cell_type": "code",
   "execution_count": 18,
   "metadata": {},
   "outputs": [
    {
     "data": {
      "text/html": [
       "<div>\n",
       "<style scoped>\n",
       "    .dataframe tbody tr th:only-of-type {\n",
       "        vertical-align: middle;\n",
       "    }\n",
       "\n",
       "    .dataframe tbody tr th {\n",
       "        vertical-align: top;\n",
       "    }\n",
       "\n",
       "    .dataframe thead th {\n",
       "        text-align: right;\n",
       "    }\n",
       "</style>\n",
       "<table border=\"1\" class=\"dataframe\">\n",
       "  <thead>\n",
       "    <tr style=\"text-align: right;\">\n",
       "      <th></th>\n",
       "      <th>Total Revenues</th>\n",
       "      <th>Total Operating Expenses</th>\n",
       "      <th>Operating Income</th>\n",
       "      <th>EBT, Excl. Unusual Items</th>\n",
       "      <th>EBT, Incl. Unusual Items</th>\n",
       "      <th>Revenue Per Share</th>\n",
       "      <th>Basic Weighted Average Shares Outst.</th>\n",
       "      <th>Diluted Weighted Average Shares Outst.</th>\n",
       "      <th>Normalized Basic EPS</th>\n",
       "      <th>Normalized Diluted EPS</th>\n",
       "      <th>EBITDA</th>\n",
       "      <th>Normalized Net Income</th>\n",
       "    </tr>\n",
       "    <tr>\n",
       "      <th>Date</th>\n",
       "      <th></th>\n",
       "      <th></th>\n",
       "      <th></th>\n",
       "      <th></th>\n",
       "      <th></th>\n",
       "      <th></th>\n",
       "      <th></th>\n",
       "      <th></th>\n",
       "      <th></th>\n",
       "      <th></th>\n",
       "      <th></th>\n",
       "      <th></th>\n",
       "    </tr>\n",
       "  </thead>\n",
       "  <tbody>\n",
       "    <tr>\n",
       "      <th>2017-12-01</th>\n",
       "      <td>14.47</td>\n",
       "      <td>12.96</td>\n",
       "      <td>23.49</td>\n",
       "      <td>-10.56</td>\n",
       "      <td>-23.60</td>\n",
       "      <td>13.68</td>\n",
       "      <td>0.73</td>\n",
       "      <td>0.96</td>\n",
       "      <td>-13.81</td>\n",
       "      <td>-14.78</td>\n",
       "      <td>25.72</td>\n",
       "      <td>-13.51</td>\n",
       "    </tr>\n",
       "    <tr>\n",
       "      <th>2019-02-01</th>\n",
       "      <td>2.02</td>\n",
       "      <td>-25.50</td>\n",
       "      <td>-6.26</td>\n",
       "      <td>-4.82</td>\n",
       "      <td>23.36</td>\n",
       "      <td>12.25</td>\n",
       "      <td>-9.12</td>\n",
       "      <td>-9.23</td>\n",
       "      <td>4.78</td>\n",
       "      <td>4.87</td>\n",
       "      <td>-4.60</td>\n",
       "      <td>-4.82</td>\n",
       "    </tr>\n",
       "    <tr>\n",
       "      <th>2017-06-01</th>\n",
       "      <td>6.04</td>\n",
       "      <td>2.02</td>\n",
       "      <td>11.52</td>\n",
       "      <td>11.07</td>\n",
       "      <td>17.10</td>\n",
       "      <td>8.22</td>\n",
       "      <td>-2.01</td>\n",
       "      <td>-1.92</td>\n",
       "      <td>13.36</td>\n",
       "      <td>13.10</td>\n",
       "      <td>11.30</td>\n",
       "      <td>11.07</td>\n",
       "    </tr>\n",
       "    <tr>\n",
       "      <th>2017-12-01</th>\n",
       "      <td>5.44</td>\n",
       "      <td>-2.37</td>\n",
       "      <td>15.22</td>\n",
       "      <td>7.00</td>\n",
       "      <td>15.22</td>\n",
       "      <td>8.43</td>\n",
       "      <td>-2.76</td>\n",
       "      <td>-2.73</td>\n",
       "      <td>10.08</td>\n",
       "      <td>9.91</td>\n",
       "      <td>14.73</td>\n",
       "      <td>7.00</td>\n",
       "    </tr>\n",
       "    <tr>\n",
       "      <th>2018-12-01</th>\n",
       "      <td>3.22</td>\n",
       "      <td>-9.83</td>\n",
       "      <td>7.63</td>\n",
       "      <td>8.65</td>\n",
       "      <td>8.94</td>\n",
       "      <td>5.42</td>\n",
       "      <td>-2.11</td>\n",
       "      <td>-2.20</td>\n",
       "      <td>10.41</td>\n",
       "      <td>10.55</td>\n",
       "      <td>8.05</td>\n",
       "      <td>8.06</td>\n",
       "    </tr>\n",
       "    <tr>\n",
       "      <th>...</th>\n",
       "      <td>...</td>\n",
       "      <td>...</td>\n",
       "      <td>...</td>\n",
       "      <td>...</td>\n",
       "      <td>...</td>\n",
       "      <td>...</td>\n",
       "      <td>...</td>\n",
       "      <td>...</td>\n",
       "      <td>...</td>\n",
       "      <td>...</td>\n",
       "      <td>...</td>\n",
       "      <td>...</td>\n",
       "    </tr>\n",
       "    <tr>\n",
       "      <th>2018-03-01</th>\n",
       "      <td>-0.44</td>\n",
       "      <td>15.63</td>\n",
       "      <td>-19.71</td>\n",
       "      <td>-18.40</td>\n",
       "      <td>-15.85</td>\n",
       "      <td>-0.56</td>\n",
       "      <td>0.12</td>\n",
       "      <td>-0.92</td>\n",
       "      <td>-18.60</td>\n",
       "      <td>-17.63</td>\n",
       "      <td>-11.90</td>\n",
       "      <td>-18.40</td>\n",
       "    </tr>\n",
       "    <tr>\n",
       "      <th>2019-12-01</th>\n",
       "      <td>-21.24</td>\n",
       "      <td>-41.24</td>\n",
       "      <td>-11.07</td>\n",
       "      <td>6.19</td>\n",
       "      <td>-48.09</td>\n",
       "      <td>-19.44</td>\n",
       "      <td>-2.22</td>\n",
       "      <td>-2.22</td>\n",
       "      <td>9.01</td>\n",
       "      <td>9.01</td>\n",
       "      <td>-2.64</td>\n",
       "      <td>6.19</td>\n",
       "    </tr>\n",
       "    <tr>\n",
       "      <th>2021-01-01</th>\n",
       "      <td>-13.41</td>\n",
       "      <td>-13.69</td>\n",
       "      <td>-86.92</td>\n",
       "      <td>-87.47</td>\n",
       "      <td>-98.53</td>\n",
       "      <td>-11.61</td>\n",
       "      <td>-2.02</td>\n",
       "      <td>-2.05</td>\n",
       "      <td>-87.22</td>\n",
       "      <td>-87.23</td>\n",
       "      <td>-63.37</td>\n",
       "      <td>-87.47</td>\n",
       "    </tr>\n",
       "    <tr>\n",
       "      <th>2019-12-01</th>\n",
       "      <td>8.21</td>\n",
       "      <td>11.06</td>\n",
       "      <td>-5.05</td>\n",
       "      <td>-2.86</td>\n",
       "      <td>0.19</td>\n",
       "      <td>16.79</td>\n",
       "      <td>-7.34</td>\n",
       "      <td>-7.73</td>\n",
       "      <td>4.44</td>\n",
       "      <td>5.16</td>\n",
       "      <td>0.06</td>\n",
       "      <td>-2.86</td>\n",
       "    </tr>\n",
       "    <tr>\n",
       "      <th>2019-12-01</th>\n",
       "      <td>6.30</td>\n",
       "      <td>1.45</td>\n",
       "      <td>16.42</td>\n",
       "      <td>20.85</td>\n",
       "      <td>25.06</td>\n",
       "      <td>6.32</td>\n",
       "      <td>0.00</td>\n",
       "      <td>0.00</td>\n",
       "      <td>13.89</td>\n",
       "      <td>13.78</td>\n",
       "      <td>14.50</td>\n",
       "      <td>13.86</td>\n",
       "    </tr>\n",
       "  </tbody>\n",
       "</table>\n",
       "<p>2286 rows × 12 columns</p>\n",
       "</div>"
      ],
      "text/plain": [
       "            Total Revenues  Total Operating Expenses  Operating Income  \\\n",
       "Date                                                                     \n",
       "2017-12-01           14.47                     12.96             23.49   \n",
       "2019-02-01            2.02                    -25.50             -6.26   \n",
       "2017-06-01            6.04                      2.02             11.52   \n",
       "2017-12-01            5.44                     -2.37             15.22   \n",
       "2018-12-01            3.22                     -9.83              7.63   \n",
       "...                    ...                       ...               ...   \n",
       "2018-03-01           -0.44                     15.63            -19.71   \n",
       "2019-12-01          -21.24                    -41.24            -11.07   \n",
       "2021-01-01          -13.41                    -13.69            -86.92   \n",
       "2019-12-01            8.21                     11.06             -5.05   \n",
       "2019-12-01            6.30                      1.45             16.42   \n",
       "\n",
       "            EBT, Excl. Unusual Items  EBT, Incl. Unusual Items  \\\n",
       "Date                                                             \n",
       "2017-12-01                    -10.56                    -23.60   \n",
       "2019-02-01                     -4.82                     23.36   \n",
       "2017-06-01                     11.07                     17.10   \n",
       "2017-12-01                      7.00                     15.22   \n",
       "2018-12-01                      8.65                      8.94   \n",
       "...                              ...                       ...   \n",
       "2018-03-01                    -18.40                    -15.85   \n",
       "2019-12-01                      6.19                    -48.09   \n",
       "2021-01-01                    -87.47                    -98.53   \n",
       "2019-12-01                     -2.86                      0.19   \n",
       "2019-12-01                     20.85                     25.06   \n",
       "\n",
       "            Revenue Per Share  Basic Weighted Average Shares Outst.  \\\n",
       "Date                                                                  \n",
       "2017-12-01              13.68                                  0.73   \n",
       "2019-02-01              12.25                                 -9.12   \n",
       "2017-06-01               8.22                                 -2.01   \n",
       "2017-12-01               8.43                                 -2.76   \n",
       "2018-12-01               5.42                                 -2.11   \n",
       "...                       ...                                   ...   \n",
       "2018-03-01              -0.56                                  0.12   \n",
       "2019-12-01             -19.44                                 -2.22   \n",
       "2021-01-01             -11.61                                 -2.02   \n",
       "2019-12-01              16.79                                 -7.34   \n",
       "2019-12-01               6.32                                  0.00   \n",
       "\n",
       "            Diluted Weighted Average Shares Outst.  Normalized Basic EPS  \\\n",
       "Date                                                                       \n",
       "2017-12-01                                    0.96                -13.81   \n",
       "2019-02-01                                   -9.23                  4.78   \n",
       "2017-06-01                                   -1.92                 13.36   \n",
       "2017-12-01                                   -2.73                 10.08   \n",
       "2018-12-01                                   -2.20                 10.41   \n",
       "...                                            ...                   ...   \n",
       "2018-03-01                                   -0.92                -18.60   \n",
       "2019-12-01                                   -2.22                  9.01   \n",
       "2021-01-01                                   -2.05                -87.22   \n",
       "2019-12-01                                   -7.73                  4.44   \n",
       "2019-12-01                                    0.00                 13.89   \n",
       "\n",
       "            Normalized Diluted EPS  EBITDA  Normalized Net Income  \n",
       "Date                                                               \n",
       "2017-12-01                  -14.78   25.72                 -13.51  \n",
       "2019-02-01                    4.87   -4.60                  -4.82  \n",
       "2017-06-01                   13.10   11.30                  11.07  \n",
       "2017-12-01                    9.91   14.73                   7.00  \n",
       "2018-12-01                   10.55    8.05                   8.06  \n",
       "...                            ...     ...                    ...  \n",
       "2018-03-01                  -17.63  -11.90                 -18.40  \n",
       "2019-12-01                    9.01   -2.64                   6.19  \n",
       "2021-01-01                  -87.23  -63.37                 -87.47  \n",
       "2019-12-01                    5.16    0.06                  -2.86  \n",
       "2019-12-01                   13.78   14.50                  13.86  \n",
       "\n",
       "[2286 rows x 12 columns]"
      ]
     },
     "execution_count": 18,
     "metadata": {},
     "output_type": "execute_result"
    }
   ],
   "source": [
    "X_train"
   ]
  },
  {
   "cell_type": "markdown",
   "metadata": {},
   "source": [
    "## Split by Date"
   ]
  },
  {
   "cell_type": "code",
   "execution_count": 19,
   "metadata": {},
   "outputs": [],
   "source": [
    "new_X_train = X[X.index <= '2019-12-31']\n",
    "new_X_test = X[X.index > '2019-12-31']\n",
    "new_y_train = y[y.index <= '2019-12-31']\n",
    "new_y_test = y[y.index > '2019-12-31']"
   ]
  },
  {
   "cell_type": "code",
   "execution_count": 20,
   "metadata": {},
   "outputs": [
    {
     "data": {
      "text/html": [
       "<div>\n",
       "<style scoped>\n",
       "    .dataframe tbody tr th:only-of-type {\n",
       "        vertical-align: middle;\n",
       "    }\n",
       "\n",
       "    .dataframe tbody tr th {\n",
       "        vertical-align: top;\n",
       "    }\n",
       "\n",
       "    .dataframe thead th {\n",
       "        text-align: right;\n",
       "    }\n",
       "</style>\n",
       "<table border=\"1\" class=\"dataframe\">\n",
       "  <thead>\n",
       "    <tr style=\"text-align: right;\">\n",
       "      <th></th>\n",
       "      <th>Total Revenues</th>\n",
       "      <th>Total Operating Expenses</th>\n",
       "      <th>Operating Income</th>\n",
       "      <th>EBT, Excl. Unusual Items</th>\n",
       "      <th>EBT, Incl. Unusual Items</th>\n",
       "      <th>Revenue Per Share</th>\n",
       "      <th>Basic Weighted Average Shares Outst.</th>\n",
       "      <th>Diluted Weighted Average Shares Outst.</th>\n",
       "      <th>Normalized Basic EPS</th>\n",
       "      <th>Normalized Diluted EPS</th>\n",
       "      <th>EBITDA</th>\n",
       "      <th>Normalized Net Income</th>\n",
       "    </tr>\n",
       "    <tr>\n",
       "      <th>Date</th>\n",
       "      <th></th>\n",
       "      <th></th>\n",
       "      <th></th>\n",
       "      <th></th>\n",
       "      <th></th>\n",
       "      <th></th>\n",
       "      <th></th>\n",
       "      <th></th>\n",
       "      <th></th>\n",
       "      <th></th>\n",
       "      <th></th>\n",
       "      <th></th>\n",
       "    </tr>\n",
       "  </thead>\n",
       "  <tbody>\n",
       "    <tr>\n",
       "      <th>2017-12-01</th>\n",
       "      <td>1.28</td>\n",
       "      <td>4.23</td>\n",
       "      <td>-8.80</td>\n",
       "      <td>-6.85</td>\n",
       "      <td>-30.13</td>\n",
       "      <td>-3.23</td>\n",
       "      <td>4.58</td>\n",
       "      <td>4.60</td>\n",
       "      <td>-9.67</td>\n",
       "      <td>-10.25</td>\n",
       "      <td>1.27</td>\n",
       "      <td>-6.23</td>\n",
       "    </tr>\n",
       "    <tr>\n",
       "      <th>2018-12-01</th>\n",
       "      <td>10.59</td>\n",
       "      <td>12.06</td>\n",
       "      <td>4.87</td>\n",
       "      <td>-22.06</td>\n",
       "      <td>70.94</td>\n",
       "      <td>9.30</td>\n",
       "      <td>1.24</td>\n",
       "      <td>1.26</td>\n",
       "      <td>-25.90</td>\n",
       "      <td>-24.59</td>\n",
       "      <td>9.10</td>\n",
       "      <td>-24.17</td>\n",
       "    </tr>\n",
       "    <tr>\n",
       "      <th>2019-12-01</th>\n",
       "      <td>7.07</td>\n",
       "      <td>4.98</td>\n",
       "      <td>15.78</td>\n",
       "      <td>18.46</td>\n",
       "      <td>-27.38</td>\n",
       "      <td>6.66</td>\n",
       "      <td>0.35</td>\n",
       "      <td>0.41</td>\n",
       "      <td>19.94</td>\n",
       "      <td>19.08</td>\n",
       "      <td>8.93</td>\n",
       "      <td>19.89</td>\n",
       "    </tr>\n",
       "    <tr>\n",
       "      <th>2017-12-01</th>\n",
       "      <td>0.90</td>\n",
       "      <td>5.85</td>\n",
       "      <td>-1.63</td>\n",
       "      <td>-0.93</td>\n",
       "      <td>618.55</td>\n",
       "      <td>-0.55</td>\n",
       "      <td>1.46</td>\n",
       "      <td>1.27</td>\n",
       "      <td>-3.32</td>\n",
       "      <td>-2.95</td>\n",
       "      <td>0.11</td>\n",
       "      <td>-1.95</td>\n",
       "    </tr>\n",
       "    <tr>\n",
       "      <th>2018-12-01</th>\n",
       "      <td>-32.85</td>\n",
       "      <td>-37.37</td>\n",
       "      <td>-30.22</td>\n",
       "      <td>-53.79</td>\n",
       "      <td>-71.54</td>\n",
       "      <td>-33.11</td>\n",
       "      <td>0.39</td>\n",
       "      <td>0.41</td>\n",
       "      <td>-54.32</td>\n",
       "      <td>-54.14</td>\n",
       "      <td>-33.57</td>\n",
       "      <td>-54.02</td>\n",
       "    </tr>\n",
       "    <tr>\n",
       "      <th>...</th>\n",
       "      <td>...</td>\n",
       "      <td>...</td>\n",
       "      <td>...</td>\n",
       "      <td>...</td>\n",
       "      <td>...</td>\n",
       "      <td>...</td>\n",
       "      <td>...</td>\n",
       "      <td>...</td>\n",
       "      <td>...</td>\n",
       "      <td>...</td>\n",
       "      <td>...</td>\n",
       "      <td>...</td>\n",
       "    </tr>\n",
       "    <tr>\n",
       "      <th>2018-12-01</th>\n",
       "      <td>13.33</td>\n",
       "      <td>1.29</td>\n",
       "      <td>65.46</td>\n",
       "      <td>148.64</td>\n",
       "      <td>495.45</td>\n",
       "      <td>12.12</td>\n",
       "      <td>1.07</td>\n",
       "      <td>1.14</td>\n",
       "      <td>146.30</td>\n",
       "      <td>145.94</td>\n",
       "      <td>25.50</td>\n",
       "      <td>148.64</td>\n",
       "    </tr>\n",
       "    <tr>\n",
       "      <th>2019-12-01</th>\n",
       "      <td>6.33</td>\n",
       "      <td>2.76</td>\n",
       "      <td>12.77</td>\n",
       "      <td>14.44</td>\n",
       "      <td>14.12</td>\n",
       "      <td>5.54</td>\n",
       "      <td>0.75</td>\n",
       "      <td>0.54</td>\n",
       "      <td>13.58</td>\n",
       "      <td>13.75</td>\n",
       "      <td>10.04</td>\n",
       "      <td>14.44</td>\n",
       "    </tr>\n",
       "    <tr>\n",
       "      <th>2017-12-01</th>\n",
       "      <td>8.57</td>\n",
       "      <td>1.18</td>\n",
       "      <td>19.40</td>\n",
       "      <td>21.80</td>\n",
       "      <td>24.19</td>\n",
       "      <td>9.86</td>\n",
       "      <td>-1.17</td>\n",
       "      <td>-1.02</td>\n",
       "      <td>23.13</td>\n",
       "      <td>23.07</td>\n",
       "      <td>15.91</td>\n",
       "      <td>21.75</td>\n",
       "    </tr>\n",
       "    <tr>\n",
       "      <th>2018-12-01</th>\n",
       "      <td>9.76</td>\n",
       "      <td>12.96</td>\n",
       "      <td>8.18</td>\n",
       "      <td>8.92</td>\n",
       "      <td>10.82</td>\n",
       "      <td>11.34</td>\n",
       "      <td>-1.40</td>\n",
       "      <td>-1.27</td>\n",
       "      <td>10.48</td>\n",
       "      <td>10.72</td>\n",
       "      <td>10.63</td>\n",
       "      <td>9.10</td>\n",
       "    </tr>\n",
       "    <tr>\n",
       "      <th>2019-12-01</th>\n",
       "      <td>7.47</td>\n",
       "      <td>10.68</td>\n",
       "      <td>10.89</td>\n",
       "      <td>11.75</td>\n",
       "      <td>6.57</td>\n",
       "      <td>8.56</td>\n",
       "      <td>-1.02</td>\n",
       "      <td>-1.05</td>\n",
       "      <td>12.52</td>\n",
       "      <td>12.68</td>\n",
       "      <td>14.06</td>\n",
       "      <td>11.34</td>\n",
       "    </tr>\n",
       "  </tbody>\n",
       "</table>\n",
       "<p>2164 rows × 12 columns</p>\n",
       "</div>"
      ],
      "text/plain": [
       "            Total Revenues  Total Operating Expenses  Operating Income  \\\n",
       "Date                                                                     \n",
       "2017-12-01            1.28                      4.23             -8.80   \n",
       "2018-12-01           10.59                     12.06              4.87   \n",
       "2019-12-01            7.07                      4.98             15.78   \n",
       "2017-12-01            0.90                      5.85             -1.63   \n",
       "2018-12-01          -32.85                    -37.37            -30.22   \n",
       "...                    ...                       ...               ...   \n",
       "2018-12-01           13.33                      1.29             65.46   \n",
       "2019-12-01            6.33                      2.76             12.77   \n",
       "2017-12-01            8.57                      1.18             19.40   \n",
       "2018-12-01            9.76                     12.96              8.18   \n",
       "2019-12-01            7.47                     10.68             10.89   \n",
       "\n",
       "            EBT, Excl. Unusual Items  EBT, Incl. Unusual Items  \\\n",
       "Date                                                             \n",
       "2017-12-01                     -6.85                    -30.13   \n",
       "2018-12-01                    -22.06                     70.94   \n",
       "2019-12-01                     18.46                    -27.38   \n",
       "2017-12-01                     -0.93                    618.55   \n",
       "2018-12-01                    -53.79                    -71.54   \n",
       "...                              ...                       ...   \n",
       "2018-12-01                    148.64                    495.45   \n",
       "2019-12-01                     14.44                     14.12   \n",
       "2017-12-01                     21.80                     24.19   \n",
       "2018-12-01                      8.92                     10.82   \n",
       "2019-12-01                     11.75                      6.57   \n",
       "\n",
       "            Revenue Per Share  Basic Weighted Average Shares Outst.  \\\n",
       "Date                                                                  \n",
       "2017-12-01              -3.23                                  4.58   \n",
       "2018-12-01               9.30                                  1.24   \n",
       "2019-12-01               6.66                                  0.35   \n",
       "2017-12-01              -0.55                                  1.46   \n",
       "2018-12-01             -33.11                                  0.39   \n",
       "...                       ...                                   ...   \n",
       "2018-12-01              12.12                                  1.07   \n",
       "2019-12-01               5.54                                  0.75   \n",
       "2017-12-01               9.86                                 -1.17   \n",
       "2018-12-01              11.34                                 -1.40   \n",
       "2019-12-01               8.56                                 -1.02   \n",
       "\n",
       "            Diluted Weighted Average Shares Outst.  Normalized Basic EPS  \\\n",
       "Date                                                                       \n",
       "2017-12-01                                    4.60                 -9.67   \n",
       "2018-12-01                                    1.26                -25.90   \n",
       "2019-12-01                                    0.41                 19.94   \n",
       "2017-12-01                                    1.27                 -3.32   \n",
       "2018-12-01                                    0.41                -54.32   \n",
       "...                                            ...                   ...   \n",
       "2018-12-01                                    1.14                146.30   \n",
       "2019-12-01                                    0.54                 13.58   \n",
       "2017-12-01                                   -1.02                 23.13   \n",
       "2018-12-01                                   -1.27                 10.48   \n",
       "2019-12-01                                   -1.05                 12.52   \n",
       "\n",
       "            Normalized Diluted EPS  EBITDA  Normalized Net Income  \n",
       "Date                                                               \n",
       "2017-12-01                  -10.25    1.27                  -6.23  \n",
       "2018-12-01                  -24.59    9.10                 -24.17  \n",
       "2019-12-01                   19.08    8.93                  19.89  \n",
       "2017-12-01                   -2.95    0.11                  -1.95  \n",
       "2018-12-01                  -54.14  -33.57                 -54.02  \n",
       "...                            ...     ...                    ...  \n",
       "2018-12-01                  145.94   25.50                 148.64  \n",
       "2019-12-01                   13.75   10.04                  14.44  \n",
       "2017-12-01                   23.07   15.91                  21.75  \n",
       "2018-12-01                   10.72   10.63                   9.10  \n",
       "2019-12-01                   12.68   14.06                  11.34  \n",
       "\n",
       "[2164 rows x 12 columns]"
      ]
     },
     "execution_count": 20,
     "metadata": {},
     "output_type": "execute_result"
    }
   ],
   "source": [
    "new_X_train"
   ]
  },
  {
   "cell_type": "markdown",
   "metadata": {},
   "source": [
    "### Scalers"
   ]
  },
  {
   "cell_type": "code",
   "execution_count": 21,
   "metadata": {},
   "outputs": [],
   "source": [
    "def scale_features(X_train, X_test, scale_type):\n",
    "    X_train_scaled = pd.DataFrame()\n",
    "    if scale_type == 'minmax':\n",
    "        scaler = MinMaxScaler(feature_range=(-1, 1))\n",
    "        X_train_scaled = scaler.fit_transform(X_train)\n",
    "        X_test_scaled = scaler.fit_transform(X_test)\n",
    "    elif scale_type == 'standard':\n",
    "        scaler = StandardScaler()\n",
    "        X_train_scaled = scaler.fit_transform(X_train)\n",
    "        X_test_scaled = scaler.fit_transform(X_test)\n",
    "    return X_train_scaled, X_test_scaled"
   ]
  },
  {
   "cell_type": "code",
   "execution_count": 22,
   "metadata": {},
   "outputs": [],
   "source": [
    "# Random split - scaling\n",
    "X_train_minmax_scaled, X_test_minmax_scaled = scale_features(X_train, X_test, 'minmax')\n",
    "X_train_standard_scaled, X_test_standard_scaled = scale_features(X_train, X_test, 'standard')\n",
    "\n",
    "# Split by date - scaling\n",
    "new_X_train_minmax_scaled, new_X_test_minmax_scaled = scale_features(new_X_train, new_X_test, 'minmax')\n",
    "new_X_train_standard_scaled, new_X_test_standard_scaled = scale_features(new_X_train, new_X_test, 'standard')"
   ]
  },
  {
   "cell_type": "markdown",
   "metadata": {},
   "source": [
    "## Classification Models"
   ]
  },
  {
   "cell_type": "markdown",
   "metadata": {},
   "source": [
    "### Logistic Regression"
   ]
  },
  {
   "cell_type": "markdown",
   "metadata": {},
   "source": [
    "#### without scaling"
   ]
  },
  {
   "cell_type": "code",
   "execution_count": 63,
   "metadata": {},
   "outputs": [
    {
     "name": "stderr",
     "output_type": "stream",
     "text": [
      "C:\\ProgramData\\Anaconda3\\lib\\site-packages\\sklearn\\linear_model\\_logistic.py:762: ConvergenceWarning: lbfgs failed to converge (status=1):\n",
      "STOP: TOTAL NO. of ITERATIONS REACHED LIMIT.\n",
      "\n",
      "Increase the number of iterations (max_iter) or scale the data as shown in:\n",
      "    https://scikit-learn.org/stable/modules/preprocessing.html\n",
      "Please also refer to the documentation for alternative solver options:\n",
      "    https://scikit-learn.org/stable/modules/linear_model.html#logistic-regression\n",
      "  n_iter_i = _check_optimize_result(\n",
      "C:\\ProgramData\\Anaconda3\\lib\\site-packages\\sklearn\\linear_model\\_logistic.py:762: ConvergenceWarning: lbfgs failed to converge (status=1):\n",
      "STOP: TOTAL NO. of ITERATIONS REACHED LIMIT.\n",
      "\n",
      "Increase the number of iterations (max_iter) or scale the data as shown in:\n",
      "    https://scikit-learn.org/stable/modules/preprocessing.html\n",
      "Please also refer to the documentation for alternative solver options:\n",
      "    https://scikit-learn.org/stable/modules/linear_model.html#logistic-regression\n",
      "  n_iter_i = _check_optimize_result(\n"
     ]
    }
   ],
   "source": [
    "# Random split - test\n",
    "LR_classification_model = LogisticRegression().fit(X_train, y_train)\n",
    "y_pred = LR_classification_model.predict(X_test)\n",
    "\n",
    "# Split by date - test\n",
    "LR_classification_model = LogisticRegression().fit(new_X_train, new_y_train)\n",
    "new_y_pred = LR_classification_model.predict(new_X_test)"
   ]
  },
  {
   "cell_type": "code",
   "execution_count": 64,
   "metadata": {},
   "outputs": [
    {
     "name": "stdout",
     "output_type": "stream",
     "text": [
      "              precision    recall  f1-score   support\n",
      "\n",
      "         0.0       0.31      0.02      0.04       215\n",
      "         1.0       0.62      0.97      0.76       357\n",
      "\n",
      "    accuracy                           0.61       572\n",
      "   macro avg       0.47      0.50      0.40       572\n",
      "weighted avg       0.51      0.61      0.49       572\n",
      "\n",
      "[[  5 210]\n",
      " [ 11 346]]\n"
     ]
    }
   ],
   "source": [
    "# Random split - result\n",
    "print(metrics.classification_report(y_test,y_pred))\n",
    "print(metrics.confusion_matrix(y_test, y_pred))"
   ]
  },
  {
   "cell_type": "code",
   "execution_count": 65,
   "metadata": {},
   "outputs": [
    {
     "name": "stdout",
     "output_type": "stream",
     "text": [
      "              precision    recall  f1-score   support\n",
      "\n",
      "         0.0       0.32      0.15      0.20       278\n",
      "         1.0       0.58      0.79      0.67       416\n",
      "\n",
      "    accuracy                           0.53       694\n",
      "   macro avg       0.45      0.47      0.44       694\n",
      "weighted avg       0.48      0.53      0.48       694\n",
      "\n",
      "[[ 41 237]\n",
      " [ 86 330]]\n"
     ]
    }
   ],
   "source": [
    "# Split by date - result\n",
    "print(metrics.classification_report(new_y_test,new_y_pred))\n",
    "print(metrics.confusion_matrix(new_y_test, new_y_pred))"
   ]
  },
  {
   "cell_type": "markdown",
   "metadata": {},
   "source": [
    "#### mimax scaling"
   ]
  },
  {
   "cell_type": "code",
   "execution_count": 66,
   "metadata": {},
   "outputs": [],
   "source": [
    "# Random split - test\n",
    "LR_classification_minmax_model = LogisticRegression().fit(X_train_minmax_scaled, y_train)\n",
    "y_pred = LR_classification_minmax_model.predict(X_test_minmax_scaled)\n",
    "\n",
    "# Split by date - test\n",
    "LR_classification_minmax_model = LogisticRegression().fit(new_X_train_minmax_scaled, new_y_train)\n",
    "new_y_pred = LR_classification_minmax_model.predict(new_X_test_minmax_scaled)"
   ]
  },
  {
   "cell_type": "code",
   "execution_count": 67,
   "metadata": {},
   "outputs": [
    {
     "name": "stdout",
     "output_type": "stream",
     "text": [
      "              precision    recall  f1-score   support\n",
      "\n",
      "         0.0       0.00      0.00      0.00       215\n",
      "         1.0       0.62      0.99      0.76       357\n",
      "\n",
      "    accuracy                           0.62       572\n",
      "   macro avg       0.31      0.50      0.38       572\n",
      "weighted avg       0.39      0.62      0.48       572\n",
      "\n",
      "[[  0 215]\n",
      " [  3 354]]\n"
     ]
    }
   ],
   "source": [
    "# Random split - result\n",
    "print(metrics.classification_report(y_test,y_pred))\n",
    "print(metrics.confusion_matrix(y_test, y_pred))"
   ]
  },
  {
   "cell_type": "code",
   "execution_count": 68,
   "metadata": {},
   "outputs": [
    {
     "name": "stdout",
     "output_type": "stream",
     "text": [
      "              precision    recall  f1-score   support\n",
      "\n",
      "         0.0       0.31      0.02      0.03       278\n",
      "         1.0       0.60      0.97      0.74       416\n",
      "\n",
      "    accuracy                           0.59       694\n",
      "   macro avg       0.45      0.50      0.39       694\n",
      "weighted avg       0.48      0.59      0.46       694\n",
      "\n",
      "[[  5 273]\n",
      " [ 11 405]]\n"
     ]
    }
   ],
   "source": [
    "# Split by date - result\n",
    "print(metrics.classification_report(new_y_test,new_y_pred))\n",
    "print(metrics.confusion_matrix(new_y_test, new_y_pred))"
   ]
  },
  {
   "cell_type": "markdown",
   "metadata": {},
   "source": [
    "#### standard scaling"
   ]
  },
  {
   "cell_type": "code",
   "execution_count": 69,
   "metadata": {},
   "outputs": [],
   "source": [
    "# Random split - test\n",
    "LR_classification_standard_model = LogisticRegression().fit(X_train_standard_scaled, y_train)\n",
    "y_pred = LR_classification_standard_model.predict(X_test_standard_scaled)\n",
    "\n",
    "# Split by date - test\n",
    "LR_classification_standard_model = LogisticRegression().fit(new_X_train_standard_scaled, new_y_train)\n",
    "new_y_pred = LR_classification_standard_model.predict(new_X_test_standard_scaled)"
   ]
  },
  {
   "cell_type": "code",
   "execution_count": 70,
   "metadata": {
    "scrolled": false
   },
   "outputs": [
    {
     "name": "stdout",
     "output_type": "stream",
     "text": [
      "              precision    recall  f1-score   support\n",
      "\n",
      "         0.0       0.24      0.03      0.06       215\n",
      "         1.0       0.62      0.94      0.74       357\n",
      "\n",
      "    accuracy                           0.60       572\n",
      "   macro avg       0.43      0.49      0.40       572\n",
      "weighted avg       0.48      0.60      0.49       572\n",
      "\n",
      "[[  7 208]\n",
      " [ 22 335]]\n"
     ]
    }
   ],
   "source": [
    "# Random split - result\n",
    "print(metrics.classification_report(y_test,y_pred))\n",
    "print(metrics.confusion_matrix(y_test, y_pred))"
   ]
  },
  {
   "cell_type": "code",
   "execution_count": 71,
   "metadata": {},
   "outputs": [
    {
     "name": "stdout",
     "output_type": "stream",
     "text": [
      "              precision    recall  f1-score   support\n",
      "\n",
      "         0.0       0.32      0.07      0.11       278\n",
      "         1.0       0.59      0.90      0.71       416\n",
      "\n",
      "    accuracy                           0.57       694\n",
      "   macro avg       0.45      0.48      0.41       694\n",
      "weighted avg       0.48      0.57      0.47       694\n",
      "\n",
      "[[ 19 259]\n",
      " [ 41 375]]\n"
     ]
    }
   ],
   "source": [
    "# Split by date - result\n",
    "print(metrics.classification_report(new_y_test,new_y_pred))\n",
    "print(metrics.confusion_matrix(new_y_test, new_y_pred))"
   ]
  },
  {
   "cell_type": "markdown",
   "metadata": {},
   "source": [
    "### K-Nearest Neighbors"
   ]
  },
  {
   "cell_type": "code",
   "execution_count": 72,
   "metadata": {},
   "outputs": [],
   "source": [
    "def find_best_k_for_KNN(X_train, y_train):\n",
    "    parameters = {'n_neighbors':range(3,16,2)}\n",
    "    knn = KNeighborsClassifier()\n",
    "    clf = GridSearchCV(knn, parameters,scoring=metrics.make_scorer(metrics.precision_score))\n",
    "    clf.fit(X_train, y_train)\n",
    "    \n",
    "    best_K = clf.best_params_['n_neighbors']\n",
    "    \n",
    "    return clf, best_K"
   ]
  },
  {
   "cell_type": "markdown",
   "metadata": {},
   "source": [
    "#### without scaling"
   ]
  },
  {
   "cell_type": "code",
   "execution_count": 73,
   "metadata": {},
   "outputs": [],
   "source": [
    "# Random split - test\n",
    "KNN_classification_model, best_K = find_best_k_for_KNN(X_train, y_train)\n",
    "y_pred = KNN_classification_model.predict(X_test)\n",
    "\n",
    "# Split by date - test\n",
    "KNN_classification_model, new_best_K = find_best_k_for_KNN(new_X_train, new_y_train)\n",
    "new_y_pred = KNN_classification_model.predict(new_X_test)"
   ]
  },
  {
   "cell_type": "code",
   "execution_count": 74,
   "metadata": {},
   "outputs": [
    {
     "name": "stdout",
     "output_type": "stream",
     "text": [
      "best K is: 9\n",
      "              precision    recall  f1-score   support\n",
      "\n",
      "         0.0       0.42      0.37      0.40       215\n",
      "         1.0       0.65      0.69      0.67       357\n",
      "\n",
      "    accuracy                           0.57       572\n",
      "   macro avg       0.53      0.53      0.53       572\n",
      "weighted avg       0.56      0.57      0.57       572\n",
      "\n",
      "[[ 80 135]\n",
      " [110 247]]\n"
     ]
    }
   ],
   "source": [
    "# Random split - result\n",
    "print(\"best K is:\",best_K)\n",
    "print(metrics.classification_report(y_test,y_pred))\n",
    "print(metrics.confusion_matrix(y_test, y_pred))"
   ]
  },
  {
   "cell_type": "code",
   "execution_count": 75,
   "metadata": {},
   "outputs": [
    {
     "name": "stdout",
     "output_type": "stream",
     "text": [
      "best K is: 11\n",
      "              precision    recall  f1-score   support\n",
      "\n",
      "         0.0       0.40      0.32      0.36       278\n",
      "         1.0       0.60      0.68      0.64       416\n",
      "\n",
      "    accuracy                           0.54       694\n",
      "   macro avg       0.50      0.50      0.50       694\n",
      "weighted avg       0.52      0.54      0.53       694\n",
      "\n",
      "[[ 89 189]\n",
      " [132 284]]\n"
     ]
    }
   ],
   "source": [
    "# Split by date - result\n",
    "print(\"best K is:\",new_best_K)\n",
    "print(metrics.classification_report(new_y_test,new_y_pred))\n",
    "print(metrics.confusion_matrix(new_y_test, new_y_pred))"
   ]
  },
  {
   "cell_type": "markdown",
   "metadata": {},
   "source": [
    "#### mimax scaling"
   ]
  },
  {
   "cell_type": "code",
   "execution_count": 76,
   "metadata": {},
   "outputs": [],
   "source": [
    "# Random split - test\n",
    "KNN_classification_minmax_model, best_K = find_best_k_for_KNN(X_train_minmax_scaled, y_train)\n",
    "y_pred = KNN_classification_minmax_model.predict(X_test_minmax_scaled)\n",
    "\n",
    "# Split by date - test\n",
    "KNN_classification_model, new_best_K = find_best_k_for_KNN(new_X_train_minmax_scaled, new_y_train)\n",
    "new_y_pred = KNN_classification_model.predict(new_X_test_minmax_scaled)"
   ]
  },
  {
   "cell_type": "code",
   "execution_count": 77,
   "metadata": {},
   "outputs": [
    {
     "name": "stdout",
     "output_type": "stream",
     "text": [
      "best K is: 13\n",
      "              precision    recall  f1-score   support\n",
      "\n",
      "         0.0       0.00      0.00      0.00       215\n",
      "         1.0       0.62      0.99      0.76       357\n",
      "\n",
      "    accuracy                           0.62       572\n",
      "   macro avg       0.31      0.49      0.38       572\n",
      "weighted avg       0.39      0.62      0.48       572\n",
      "\n",
      "[[  0 215]\n",
      " [  4 353]]\n"
     ]
    }
   ],
   "source": [
    "# Random split - result\n",
    "print(\"best K is:\",best_K)\n",
    "print(metrics.classification_report(y_test,y_pred))\n",
    "print(metrics.confusion_matrix(y_test, y_pred))"
   ]
  },
  {
   "cell_type": "code",
   "execution_count": 78,
   "metadata": {},
   "outputs": [
    {
     "name": "stdout",
     "output_type": "stream",
     "text": [
      "best K is: 13\n",
      "              precision    recall  f1-score   support\n",
      "\n",
      "         0.0       0.29      0.01      0.01       278\n",
      "         1.0       0.60      0.99      0.75       416\n",
      "\n",
      "    accuracy                           0.60       694\n",
      "   macro avg       0.44      0.50      0.38       694\n",
      "weighted avg       0.47      0.60      0.45       694\n",
      "\n",
      "[[  2 276]\n",
      " [  5 411]]\n"
     ]
    }
   ],
   "source": [
    "# Split by date - result\n",
    "print(\"best K is:\",new_best_K)\n",
    "print(metrics.classification_report(new_y_test,new_y_pred))\n",
    "print(metrics.confusion_matrix(new_y_test, new_y_pred))"
   ]
  },
  {
   "cell_type": "markdown",
   "metadata": {},
   "source": [
    "#### standard scaling"
   ]
  },
  {
   "cell_type": "code",
   "execution_count": 79,
   "metadata": {},
   "outputs": [],
   "source": [
    "# Random split - test\n",
    "KNN_classification_standard_model, best_K = find_best_k_for_KNN(X_train_standard_scaled, y_train)\n",
    "y_pred = KNN_classification_standard_model.predict(X_test_standard_scaled)\n",
    "\n",
    "# Split by date - test\n",
    "KNN_classification_model, new_best_K = find_best_k_for_KNN(new_X_train_standard_scaled, new_y_train)\n",
    "new_y_pred = KNN_classification_model.predict(new_X_test_standard_scaled)"
   ]
  },
  {
   "cell_type": "code",
   "execution_count": 80,
   "metadata": {
    "scrolled": false
   },
   "outputs": [
    {
     "name": "stdout",
     "output_type": "stream",
     "text": [
      "best K is: 15\n",
      "              precision    recall  f1-score   support\n",
      "\n",
      "         0.0       0.48      0.23      0.31       215\n",
      "         1.0       0.65      0.85      0.74       357\n",
      "\n",
      "    accuracy                           0.62       572\n",
      "   macro avg       0.56      0.54      0.52       572\n",
      "weighted avg       0.58      0.62      0.58       572\n",
      "\n",
      "[[ 49 166]\n",
      " [ 53 304]]\n"
     ]
    }
   ],
   "source": [
    "# Random split - result\n",
    "print(\"best K is:\",best_K)\n",
    "print(metrics.classification_report(y_test,y_pred))\n",
    "print(metrics.confusion_matrix(y_test, y_pred))"
   ]
  },
  {
   "cell_type": "code",
   "execution_count": 81,
   "metadata": {},
   "outputs": [
    {
     "name": "stdout",
     "output_type": "stream",
     "text": [
      "best K is: 9\n",
      "              precision    recall  f1-score   support\n",
      "\n",
      "         0.0       0.42      0.25      0.31       278\n",
      "         1.0       0.60      0.77      0.68       416\n",
      "\n",
      "    accuracy                           0.56       694\n",
      "   macro avg       0.51      0.51      0.49       694\n",
      "weighted avg       0.53      0.56      0.53       694\n",
      "\n",
      "[[ 69 209]\n",
      " [ 97 319]]\n"
     ]
    }
   ],
   "source": [
    "# Split by date - result\n",
    "print(\"best K is:\",new_best_K)\n",
    "print(metrics.classification_report(new_y_test,new_y_pred))\n",
    "print(metrics.confusion_matrix(new_y_test, new_y_pred))"
   ]
  },
  {
   "cell_type": "markdown",
   "metadata": {},
   "source": [
    "### Decision Tree"
   ]
  },
  {
   "cell_type": "code",
   "execution_count": 82,
   "metadata": {},
   "outputs": [],
   "source": [
    "def find_best_decision_tree_params(X_train, y_train):\n",
    "    parameters = {'max_depth':range(2,11), 'min_samples_split':range(5,21)}\n",
    "    dt = DecisionTreeClassifier()\n",
    "    clf = GridSearchCV(dt, parameters,scoring=metrics.make_scorer(metrics.precision_score))\n",
    "    clf.fit(X_train, y_train)\n",
    "    \n",
    "    best_max_depth = clf.best_params_['max_depth']\n",
    "    best_min_samples_split = clf.best_params_['min_samples_split']\n",
    "    \n",
    "    return clf, best_max_depth, best_min_samples_split"
   ]
  },
  {
   "cell_type": "markdown",
   "metadata": {},
   "source": [
    "#### without scaling"
   ]
  },
  {
   "cell_type": "code",
   "execution_count": 83,
   "metadata": {},
   "outputs": [],
   "source": [
    "# Random split - test\n",
    "DT_classification_model, best_max_depth, best_min_samples_split = find_best_decision_tree_params(X_train, y_train)\n",
    "y_pred = DT_classification_model.predict(X_test)\n",
    "\n",
    "# Split by date - test\n",
    "DT_classification_model, new_best_max_depth, new_best_min_samples_split = find_best_decision_tree_params(new_X_train, new_y_train)\n",
    "new_y_pred = DT_classification_model.predict(new_X_test)"
   ]
  },
  {
   "cell_type": "code",
   "execution_count": 84,
   "metadata": {},
   "outputs": [
    {
     "name": "stdout",
     "output_type": "stream",
     "text": [
      "best max depth is: 8\n",
      "best min samples split is: 15\n",
      "              precision    recall  f1-score   support\n",
      "\n",
      "         0.0       0.43      0.38      0.40       215\n",
      "         1.0       0.65      0.70      0.67       357\n",
      "\n",
      "    accuracy                           0.58       572\n",
      "   macro avg       0.54      0.54      0.54       572\n",
      "weighted avg       0.57      0.58      0.57       572\n",
      "\n",
      "[[ 81 134]\n",
      " [108 249]]\n"
     ]
    }
   ],
   "source": [
    "# Random split - result\n",
    "print(\"best max depth is:\",best_max_depth)\n",
    "print(\"best min samples split is:\",best_min_samples_split)\n",
    "print(metrics.classification_report(y_test,y_pred))\n",
    "print(metrics.confusion_matrix(y_test, y_pred))"
   ]
  },
  {
   "cell_type": "code",
   "execution_count": 85,
   "metadata": {},
   "outputs": [
    {
     "name": "stdout",
     "output_type": "stream",
     "text": [
      "best max depth is: 10\n",
      "best min samples split is: 20\n",
      "              precision    recall  f1-score   support\n",
      "\n",
      "         0.0       0.44      0.39      0.41       278\n",
      "         1.0       0.62      0.67      0.65       416\n",
      "\n",
      "    accuracy                           0.56       694\n",
      "   macro avg       0.53      0.53      0.53       694\n",
      "weighted avg       0.55      0.56      0.55       694\n",
      "\n",
      "[[108 170]\n",
      " [136 280]]\n"
     ]
    }
   ],
   "source": [
    "# Split by date - result\n",
    "print(\"best max depth is:\",new_best_max_depth)\n",
    "print(\"best min samples split is:\",new_best_min_samples_split)\n",
    "print(metrics.classification_report(new_y_test,new_y_pred))\n",
    "print(metrics.confusion_matrix(new_y_test, new_y_pred))"
   ]
  },
  {
   "cell_type": "markdown",
   "metadata": {},
   "source": [
    "#### mimax scaling"
   ]
  },
  {
   "cell_type": "code",
   "execution_count": 86,
   "metadata": {},
   "outputs": [],
   "source": [
    "# Random split - test\n",
    "DT_classification_minmax_model, best_max_depth, best_min_samples_split = find_best_decision_tree_params(X_train_minmax_scaled, y_train)\n",
    "y_pred = DT_classification_minmax_model.predict(X_test_minmax_scaled)\n",
    "\n",
    "# Split by date - test\n",
    "DT_classification_minmax_model, new_best_max_depth, best_min_samples_split = find_best_decision_tree_params(new_X_train_minmax_scaled, new_y_train)\n",
    "new_y_pred = DT_classification_minmax_model.predict(new_X_test_minmax_scaled)"
   ]
  },
  {
   "cell_type": "code",
   "execution_count": 87,
   "metadata": {},
   "outputs": [
    {
     "name": "stdout",
     "output_type": "stream",
     "text": [
      "best max depth is: 8\n",
      "best min samples split is: 13\n",
      "              precision    recall  f1-score   support\n",
      "\n",
      "         0.0       0.33      0.00      0.01       215\n",
      "         1.0       0.62      0.99      0.77       357\n",
      "\n",
      "    accuracy                           0.62       572\n",
      "   macro avg       0.48      0.50      0.39       572\n",
      "weighted avg       0.51      0.62      0.48       572\n",
      "\n",
      "[[  1 214]\n",
      " [  2 355]]\n"
     ]
    }
   ],
   "source": [
    "# Random split - result\n",
    "print(\"best max depth is:\",best_max_depth)\n",
    "print(\"best min samples split is:\",best_min_samples_split)\n",
    "print(metrics.classification_report(y_test,y_pred))\n",
    "print(metrics.confusion_matrix(y_test, y_pred))"
   ]
  },
  {
   "cell_type": "code",
   "execution_count": 88,
   "metadata": {},
   "outputs": [
    {
     "name": "stdout",
     "output_type": "stream",
     "text": [
      "best max depth is: 5\n",
      "best min samples split is: 20\n",
      "              precision    recall  f1-score   support\n",
      "\n",
      "         0.0       0.40      1.00      0.57       278\n",
      "         1.0       0.67      0.00      0.01       416\n",
      "\n",
      "    accuracy                           0.40       694\n",
      "   macro avg       0.53      0.50      0.29       694\n",
      "weighted avg       0.56      0.40      0.23       694\n",
      "\n",
      "[[277   1]\n",
      " [414   2]]\n"
     ]
    }
   ],
   "source": [
    "# Split by date - result\n",
    "print(\"best max depth is:\",new_best_max_depth)\n",
    "print(\"best min samples split is:\",new_best_min_samples_split)\n",
    "print(metrics.classification_report(new_y_test,new_y_pred))\n",
    "print(metrics.confusion_matrix(new_y_test, new_y_pred))"
   ]
  },
  {
   "cell_type": "markdown",
   "metadata": {},
   "source": [
    "#### standard scaling"
   ]
  },
  {
   "cell_type": "code",
   "execution_count": 89,
   "metadata": {},
   "outputs": [],
   "source": [
    "# Random split - test\n",
    "DT_classification_standard_model, best_max_depth, best_min_samples_split = find_best_decision_tree_params(X_train_standard_scaled, y_train)\n",
    "y_pred = DT_classification_standard_model.predict(X_test_standard_scaled)\n",
    "\n",
    "# Split by date - test\n",
    "DT_classification_standard_model, new_best_max_depth, best_min_samples_split = find_best_decision_tree_params(new_X_train_standard_scaled, new_y_train)\n",
    "new_y_pred = DT_classification_standard_model.predict(new_X_test_standard_scaled)"
   ]
  },
  {
   "cell_type": "code",
   "execution_count": 90,
   "metadata": {
    "scrolled": true
   },
   "outputs": [
    {
     "name": "stdout",
     "output_type": "stream",
     "text": [
      "best max depth is: 8\n",
      "best min samples split is: 20\n",
      "              precision    recall  f1-score   support\n",
      "\n",
      "         0.0       0.42      0.23      0.30       215\n",
      "         1.0       0.64      0.81      0.71       357\n",
      "\n",
      "    accuracy                           0.59       572\n",
      "   macro avg       0.53      0.52      0.50       572\n",
      "weighted avg       0.56      0.59      0.56       572\n",
      "\n",
      "[[ 49 166]\n",
      " [ 67 290]]\n"
     ]
    }
   ],
   "source": [
    "# Random split - result\n",
    "print(\"best max depth is:\",best_max_depth)\n",
    "print(\"best min samples split is:\",best_min_samples_split)\n",
    "print(metrics.classification_report(y_test,y_pred))\n",
    "print(metrics.confusion_matrix(y_test, y_pred))"
   ]
  },
  {
   "cell_type": "code",
   "execution_count": 91,
   "metadata": {},
   "outputs": [
    {
     "name": "stdout",
     "output_type": "stream",
     "text": [
      "best max depth is: 10\n",
      "best min samples split is: 20\n",
      "              precision    recall  f1-score   support\n",
      "\n",
      "         0.0       0.38      0.32      0.35       278\n",
      "         1.0       0.59      0.66      0.62       416\n",
      "\n",
      "    accuracy                           0.52       694\n",
      "   macro avg       0.49      0.49      0.49       694\n",
      "weighted avg       0.51      0.52      0.51       694\n",
      "\n",
      "[[ 89 189]\n",
      " [143 273]]\n"
     ]
    }
   ],
   "source": [
    "# Split by date - result\n",
    "print(\"best max depth is:\",new_best_max_depth)\n",
    "print(\"best min samples split is:\",new_best_min_samples_split)\n",
    "print(metrics.classification_report(new_y_test,new_y_pred))\n",
    "print(metrics.confusion_matrix(new_y_test, new_y_pred))"
   ]
  },
  {
   "cell_type": "markdown",
   "metadata": {},
   "source": [
    "### Random Forest"
   ]
  },
  {
   "cell_type": "code",
   "execution_count": 92,
   "metadata": {},
   "outputs": [],
   "source": [
    "def find_best_random_forest_params(X_train, y_train):\n",
    "    parameters = {'n_estimators':range(50,551,100)}\n",
    "    rf = RandomForestClassifier()\n",
    "    clf = GridSearchCV(rf, parameters,scoring=metrics.make_scorer(metrics.precision_score))\n",
    "    clf.fit(X_train, y_train)\n",
    "    \n",
    "    best_n_estimators = clf.best_params_['n_estimators']\n",
    "    \n",
    "    return clf, best_n_estimators"
   ]
  },
  {
   "cell_type": "markdown",
   "metadata": {},
   "source": [
    "#### without scaling"
   ]
  },
  {
   "cell_type": "code",
   "execution_count": 93,
   "metadata": {},
   "outputs": [],
   "source": [
    "# Random split - test\n",
    "RF_classification_model, best_n_estimators = find_best_random_forest_params(X_train, y_train)\n",
    "y_pred = RF_classification_model.predict(X_test)\n",
    "\n",
    "# Split by date - test\n",
    "RF_classification_model, new_best_n_estimators = find_best_random_forest_params(new_X_train, new_y_train)\n",
    "new_y_pred = RF_classification_model.predict(new_X_test)"
   ]
  },
  {
   "cell_type": "code",
   "execution_count": 94,
   "metadata": {},
   "outputs": [
    {
     "name": "stdout",
     "output_type": "stream",
     "text": [
      "best number of estimators is: 50\n",
      "              precision    recall  f1-score   support\n",
      "\n",
      "         0.0       0.43      0.37      0.40       215\n",
      "         1.0       0.65      0.71      0.68       357\n",
      "\n",
      "    accuracy                           0.58       572\n",
      "   macro avg       0.54      0.54      0.54       572\n",
      "weighted avg       0.57      0.58      0.57       572\n",
      "\n",
      "[[ 80 135]\n",
      " [105 252]]\n"
     ]
    }
   ],
   "source": [
    "# Random split - result\n",
    "print(\"best number of estimators is:\",best_n_estimators)\n",
    "print(metrics.classification_report(y_test,y_pred))\n",
    "print(metrics.confusion_matrix(y_test, y_pred))"
   ]
  },
  {
   "cell_type": "code",
   "execution_count": 95,
   "metadata": {},
   "outputs": [
    {
     "name": "stdout",
     "output_type": "stream",
     "text": [
      "best number of estimators is: 450\n",
      "              precision    recall  f1-score   support\n",
      "\n",
      "         0.0       0.43      0.37      0.39       278\n",
      "         1.0       0.61      0.67      0.64       416\n",
      "\n",
      "    accuracy                           0.55       694\n",
      "   macro avg       0.52      0.52      0.52       694\n",
      "weighted avg       0.54      0.55      0.54       694\n",
      "\n",
      "[[102 176]\n",
      " [137 279]]\n"
     ]
    }
   ],
   "source": [
    "# Split by date - result\n",
    "print(\"best number of estimators is:\",new_best_n_estimators)\n",
    "print(metrics.classification_report(new_y_test,new_y_pred))\n",
    "print(metrics.confusion_matrix(new_y_test, new_y_pred))"
   ]
  },
  {
   "cell_type": "markdown",
   "metadata": {},
   "source": [
    "#### mimax scaling"
   ]
  },
  {
   "cell_type": "code",
   "execution_count": 96,
   "metadata": {},
   "outputs": [],
   "source": [
    "# Random split - test\n",
    "RF_classification_minmax_model, best_n_estimators = find_best_random_forest_params(X_train_minmax_scaled, y_train)\n",
    "y_pred = RF_classification_minmax_model.predict(X_test_minmax_scaled)\n",
    "\n",
    "# Split by date - test\n",
    "RF_classification_minmax_model, new_best_n_estimators = find_best_random_forest_params(new_X_train_minmax_scaled, new_y_train)\n",
    "new_y_pred = RF_classification_minmax_model.predict(new_X_test_minmax_scaled)"
   ]
  },
  {
   "cell_type": "code",
   "execution_count": 97,
   "metadata": {},
   "outputs": [
    {
     "name": "stdout",
     "output_type": "stream",
     "text": [
      "best number of estimators is: 350\n",
      "              precision    recall  f1-score   support\n",
      "\n",
      "         0.0       0.25      0.00      0.01       215\n",
      "         1.0       0.62      0.99      0.77       357\n",
      "\n",
      "    accuracy                           0.62       572\n",
      "   macro avg       0.44      0.50      0.39       572\n",
      "weighted avg       0.48      0.62      0.48       572\n",
      "\n",
      "[[  1 214]\n",
      " [  3 354]]\n"
     ]
    }
   ],
   "source": [
    "# Random split - result\n",
    "print(\"best number of estimators is:\",best_n_estimators)\n",
    "print(metrics.classification_report(y_test,y_pred))\n",
    "print(metrics.confusion_matrix(y_test, y_pred))"
   ]
  },
  {
   "cell_type": "code",
   "execution_count": 98,
   "metadata": {},
   "outputs": [
    {
     "name": "stdout",
     "output_type": "stream",
     "text": [
      "best number of estimators is: 450\n",
      "              precision    recall  f1-score   support\n",
      "\n",
      "         0.0       0.40      1.00      0.57       278\n",
      "         1.0       1.00      0.00      0.00       416\n",
      "\n",
      "    accuracy                           0.40       694\n",
      "   macro avg       0.70      0.50      0.29       694\n",
      "weighted avg       0.76      0.40      0.23       694\n",
      "\n",
      "[[278   0]\n",
      " [415   1]]\n"
     ]
    }
   ],
   "source": [
    "# Split by date - result\n",
    "print(\"best number of estimators is:\",new_best_n_estimators)\n",
    "print(metrics.classification_report(new_y_test,new_y_pred))\n",
    "print(metrics.confusion_matrix(new_y_test, new_y_pred))"
   ]
  },
  {
   "cell_type": "markdown",
   "metadata": {},
   "source": [
    "#### standard scaling"
   ]
  },
  {
   "cell_type": "code",
   "execution_count": 99,
   "metadata": {},
   "outputs": [],
   "source": [
    "# Random split - test\n",
    "RF_classification_standard_model, best_n_estimators = find_best_random_forest_params(X_train_standard_scaled, y_train)\n",
    "y_pred = RF_classification_standard_model.predict(X_test_standard_scaled)\n",
    "\n",
    "# Split by date - test\n",
    "RF_classification_standard_model, new_best_n_estimators = find_best_random_forest_params(new_X_train_standard_scaled, new_y_train)\n",
    "new_y_pred = RF_classification_standard_model.predict(new_X_test_standard_scaled)"
   ]
  },
  {
   "cell_type": "code",
   "execution_count": 100,
   "metadata": {
    "scrolled": true
   },
   "outputs": [
    {
     "name": "stdout",
     "output_type": "stream",
     "text": [
      "best number of estimators is: 450\n",
      "              precision    recall  f1-score   support\n",
      "\n",
      "         0.0       0.44      0.07      0.12       215\n",
      "         1.0       0.63      0.95      0.76       357\n",
      "\n",
      "    accuracy                           0.62       572\n",
      "   macro avg       0.53      0.51      0.44       572\n",
      "weighted avg       0.56      0.62      0.52       572\n",
      "\n",
      "[[ 15 200]\n",
      " [ 19 338]]\n"
     ]
    }
   ],
   "source": [
    "# Random split - result\n",
    "print(\"best number of estimators is:\",best_n_estimators)\n",
    "print(metrics.classification_report(y_test,y_pred))\n",
    "print(metrics.confusion_matrix(y_test, y_pred))"
   ]
  },
  {
   "cell_type": "code",
   "execution_count": 101,
   "metadata": {},
   "outputs": [
    {
     "name": "stdout",
     "output_type": "stream",
     "text": [
      "best number of estimators is: 150\n",
      "              precision    recall  f1-score   support\n",
      "\n",
      "         0.0       0.41      0.24      0.31       278\n",
      "         1.0       0.60      0.77      0.68       416\n",
      "\n",
      "    accuracy                           0.56       694\n",
      "   macro avg       0.51      0.51      0.49       694\n",
      "weighted avg       0.53      0.56      0.53       694\n",
      "\n",
      "[[ 68 210]\n",
      " [ 97 319]]\n"
     ]
    }
   ],
   "source": [
    "# Split by date - result\n",
    "print(\"best number of estimators is:\",new_best_n_estimators)\n",
    "print(metrics.classification_report(new_y_test,new_y_pred))\n",
    "print(metrics.confusion_matrix(new_y_test, new_y_pred))"
   ]
  },
  {
   "cell_type": "markdown",
   "metadata": {},
   "source": [
    "### Naive Bayes"
   ]
  },
  {
   "cell_type": "markdown",
   "metadata": {},
   "source": [
    "#### without scaling"
   ]
  },
  {
   "cell_type": "code",
   "execution_count": 102,
   "metadata": {},
   "outputs": [],
   "source": [
    "# Random split - test\n",
    "NB_classification_model = GaussianNB().fit(X_train, y_train)\n",
    "y_pred = NB_classification_model.predict(X_test)\n",
    "\n",
    "# Split by date - test\n",
    "NB_classification_model = GaussianNB().fit(new_X_train, new_y_train)\n",
    "new_y_pred = NB_classification_model.predict(new_X_test)"
   ]
  },
  {
   "cell_type": "code",
   "execution_count": 103,
   "metadata": {},
   "outputs": [
    {
     "name": "stdout",
     "output_type": "stream",
     "text": [
      "              precision    recall  f1-score   support\n",
      "\n",
      "         0.0       0.42      0.07      0.13       215\n",
      "         1.0       0.63      0.94      0.75       357\n",
      "\n",
      "    accuracy                           0.61       572\n",
      "   macro avg       0.52      0.51      0.44       572\n",
      "weighted avg       0.55      0.61      0.52       572\n",
      "\n",
      "[[ 16 199]\n",
      " [ 22 335]]\n"
     ]
    }
   ],
   "source": [
    "# Random split - result\n",
    "print(metrics.classification_report(y_test,y_pred))\n",
    "print(metrics.confusion_matrix(y_test, y_pred))"
   ]
  },
  {
   "cell_type": "code",
   "execution_count": 104,
   "metadata": {},
   "outputs": [
    {
     "name": "stdout",
     "output_type": "stream",
     "text": [
      "              precision    recall  f1-score   support\n",
      "\n",
      "         0.0       0.36      0.01      0.03       278\n",
      "         1.0       0.60      0.98      0.74       416\n",
      "\n",
      "    accuracy                           0.60       694\n",
      "   macro avg       0.48      0.50      0.39       694\n",
      "weighted avg       0.50      0.60      0.46       694\n",
      "\n",
      "[[  4 274]\n",
      " [  7 409]]\n"
     ]
    }
   ],
   "source": [
    "# Split by date - result\n",
    "print(metrics.classification_report(new_y_test,new_y_pred))\n",
    "print(metrics.confusion_matrix(new_y_test, new_y_pred))"
   ]
  },
  {
   "cell_type": "markdown",
   "metadata": {},
   "source": [
    "#### mimax scaling"
   ]
  },
  {
   "cell_type": "code",
   "execution_count": 105,
   "metadata": {},
   "outputs": [],
   "source": [
    "# Random split - test\n",
    "NB_classification_minmax_model = GaussianNB().fit(X_train_minmax_scaled, y_train)\n",
    "y_pred = NB_classification_minmax_model.predict(X_test_minmax_scaled)\n",
    "\n",
    "# Split by date - test\n",
    "NB_classification_minmax_model = GaussianNB().fit(new_X_train_minmax_scaled, new_y_train)\n",
    "new_y_pred = NB_classification_minmax_model.predict(new_X_test_minmax_scaled)"
   ]
  },
  {
   "cell_type": "code",
   "execution_count": 106,
   "metadata": {},
   "outputs": [
    {
     "name": "stdout",
     "output_type": "stream",
     "text": [
      "              precision    recall  f1-score   support\n",
      "\n",
      "         0.0       0.38      1.00      0.55       215\n",
      "         1.0       0.50      0.00      0.01       357\n",
      "\n",
      "    accuracy                           0.38       572\n",
      "   macro avg       0.44      0.50      0.28       572\n",
      "weighted avg       0.45      0.38      0.21       572\n",
      "\n",
      "[[214   1]\n",
      " [356   1]]\n"
     ]
    }
   ],
   "source": [
    "# Random split - result\n",
    "print(metrics.classification_report(y_test,y_pred))\n",
    "print(metrics.confusion_matrix(y_test, y_pred))"
   ]
  },
  {
   "cell_type": "code",
   "execution_count": 107,
   "metadata": {},
   "outputs": [
    {
     "name": "stdout",
     "output_type": "stream",
     "text": [
      "              precision    recall  f1-score   support\n",
      "\n",
      "         0.0       0.40      1.00      0.57       278\n",
      "         1.0       0.00      0.00      0.00       416\n",
      "\n",
      "    accuracy                           0.40       694\n",
      "   macro avg       0.20      0.50      0.29       694\n",
      "weighted avg       0.16      0.40      0.23       694\n",
      "\n",
      "[[278   0]\n",
      " [416   0]]\n"
     ]
    },
    {
     "name": "stderr",
     "output_type": "stream",
     "text": [
      "C:\\ProgramData\\Anaconda3\\lib\\site-packages\\sklearn\\metrics\\_classification.py:1221: UndefinedMetricWarning: Precision and F-score are ill-defined and being set to 0.0 in labels with no predicted samples. Use `zero_division` parameter to control this behavior.\n",
      "  _warn_prf(average, modifier, msg_start, len(result))\n"
     ]
    }
   ],
   "source": [
    "# Split by date - result\n",
    "print(metrics.classification_report(new_y_test,new_y_pred))\n",
    "print(metrics.confusion_matrix(new_y_test, new_y_pred))"
   ]
  },
  {
   "cell_type": "markdown",
   "metadata": {},
   "source": [
    "#### standard scaling"
   ]
  },
  {
   "cell_type": "code",
   "execution_count": 108,
   "metadata": {},
   "outputs": [],
   "source": [
    "# Random split - test\n",
    "NB_classification_standard_model = GaussianNB().fit(X_train_standard_scaled, y_train)\n",
    "y_pred = NB_classification_standard_model.predict(X_test_standard_scaled)\n",
    "\n",
    "# Split by date - test\n",
    "NB_classification_standard_model = GaussianNB().fit(new_X_train_standard_scaled, new_y_train)\n",
    "new_y_pred = NB_classification_standard_model.predict(new_X_test_standard_scaled)"
   ]
  },
  {
   "cell_type": "code",
   "execution_count": 109,
   "metadata": {
    "scrolled": false
   },
   "outputs": [
    {
     "name": "stdout",
     "output_type": "stream",
     "text": [
      "              precision    recall  f1-score   support\n",
      "\n",
      "         0.0       0.38      0.91      0.53       215\n",
      "         1.0       0.64      0.10      0.17       357\n",
      "\n",
      "    accuracy                           0.40       572\n",
      "   macro avg       0.51      0.50      0.35       572\n",
      "weighted avg       0.54      0.40      0.31       572\n",
      "\n",
      "[[195  20]\n",
      " [321  36]]\n"
     ]
    }
   ],
   "source": [
    "# Random split - result\n",
    "print(metrics.classification_report(y_test,y_pred))\n",
    "print(metrics.confusion_matrix(y_test, y_pred))"
   ]
  },
  {
   "cell_type": "code",
   "execution_count": 110,
   "metadata": {},
   "outputs": [
    {
     "name": "stdout",
     "output_type": "stream",
     "text": [
      "              precision    recall  f1-score   support\n",
      "\n",
      "         0.0       0.36      0.65      0.46       278\n",
      "         1.0       0.48      0.21      0.30       416\n",
      "\n",
      "    accuracy                           0.39       694\n",
      "   macro avg       0.42      0.43      0.38       694\n",
      "weighted avg       0.43      0.39      0.36       694\n",
      "\n",
      "[[180  98]\n",
      " [327  89]]\n"
     ]
    }
   ],
   "source": [
    "# Split by date - result\n",
    "print(metrics.classification_report(new_y_test,new_y_pred))\n",
    "print(metrics.confusion_matrix(new_y_test, new_y_pred))"
   ]
  },
  {
   "cell_type": "code",
   "execution_count": null,
   "metadata": {},
   "outputs": [],
   "source": []
  },
  {
   "cell_type": "code",
   "execution_count": null,
   "metadata": {},
   "outputs": [],
   "source": []
  },
  {
   "cell_type": "code",
   "execution_count": null,
   "metadata": {},
   "outputs": [],
   "source": []
  },
  {
   "cell_type": "code",
   "execution_count": null,
   "metadata": {},
   "outputs": [],
   "source": []
  },
  {
   "cell_type": "code",
   "execution_count": null,
   "metadata": {},
   "outputs": [],
   "source": []
  },
  {
   "cell_type": "markdown",
   "metadata": {},
   "source": [
    "# XGBoost Tests (WIP)"
   ]
  },
  {
   "cell_type": "code",
   "execution_count": null,
   "metadata": {},
   "outputs": [],
   "source": [
    "xg_reg = xgb.XGBClassifier(verbosity = 0, booster = 'gbtree', objective = 'binary:logistic', min_child_weight = 2,\n",
    "                           max_delta_step = 2 ,learning_rate = 0.9, n_estimators = 8, tree_method = 'hist',\n",
    "                           max_depth = 7)\n",
    "# dart\n",
    "# gbtree\n",
    "# gblinear\n",
    "\n",
    "xg_reg.fit(X_train,y_train)\n",
    "\n",
    "y_pred = xg_reg.predict(X_test)\n",
    "\n",
    "print(\"accuracy is:\",metrics.accuracy_score(y_test, y_pred))\n",
    "print(\"precision is:\",metrics.precision_score(y_test, y_pred))\n",
    "print(\"recall is:\",metrics.recall_score(y_test, y_pred))\n",
    "print(\"f1 is:\",metrics.f1_score(y_test, y_pred))\n",
    "metrics.confusion_matrix(y_test, y_pred)"
   ]
  },
  {
   "cell_type": "code",
   "execution_count": null,
   "metadata": {},
   "outputs": [],
   "source": [
    "print(\"accuracy is:\",metrics.accuracy_score(y_test, y_pred))\n",
    "print(\"precision is:\",metrics.precision_score(y_test, y_pred))\n",
    "print(\"recall is:\",metrics.recall_score(y_test, y_pred))\n",
    "print(\"f1 is:\",metrics.f1_score(y_test, y_pred))\n",
    "metrics.confusion_matrix(y_test, y_pred)\n",
    "\n",
    "# xg_reg = xgb.XGBClassifier(verbosity = 0, booster = 'gbtree', objective = 'binary:logistic', min_child_weight = 1,\n",
    "#                            max_delta_step = 0.4 ,learning_rate = 0.9, n_estimators = 9, tree_method = 'hist',\n",
    "#                            max_depth = 6)\n",
    "# accuracy is: 0.585\n",
    "# precision is: 0.6745098039215687\n",
    "# recall is: 0.6745098039215687\n",
    "# f1 is: 0.6745098039215687\n",
    "# array([[ 62,  83],\n",
    "#        [ 83, 172]], dtype=int64)"
   ]
  },
  {
   "cell_type": "code",
   "execution_count": null,
   "metadata": {
    "scrolled": true
   },
   "outputs": [],
   "source": [
    "print(\"accuracy is:\",metrics.accuracy_score(y_test, y_pred))\n",
    "print(\"precision is:\",metrics.precision_score(y_test, y_pred))\n",
    "print(\"recall is:\",metrics.recall_score(y_test, y_pred))\n",
    "print(\"f1 is:\",metrics.f1_score(y_test, y_pred))\n",
    "metrics.confusion_matrix(y_test, y_pred)\n",
    "\n",
    "# xg_reg = xgb.XGBClassifier(objective ='reg:pseudohubererror',min_child_weight = 1.1, max_delta_step = 1,\n",
    "#                            n_estimators = 9)\n",
    "# accuracy is: 0.6225\n",
    "# precision is: 0.6573426573426573\n",
    "# recall is: 0.7800829875518672\n",
    "# f1 is: 0.713472485768501\n",
    "# array([[ 61,  98],\n",
    "#        [ 53, 188]], dtype=int64)\n",
    "\n",
    "# xg_reg = xgb.XGBClassifier(objective ='reg:logistic',min_child_weight = 1.9, max_delta_step = 0.4, learning_rate = 0.9,\n",
    "#                 n_estimators = 15, tree_method = 'hist', max_depth = 10)\n",
    "# accuracy is: 0.625\n",
    "# precision is: 0.6666666666666666\n",
    "# recall is: 0.7551867219917012\n",
    "# f1 is: 0.708171206225681\n",
    "# array([[ 68,  91],\n",
    "#        [ 59, 182]], dtype=int64)"
   ]
  }
 ],
 "metadata": {
  "kernelspec": {
   "display_name": "Python 3",
   "language": "python",
   "name": "python3"
  },
  "language_info": {
   "codemirror_mode": {
    "name": "ipython",
    "version": 3
   },
   "file_extension": ".py",
   "mimetype": "text/x-python",
   "name": "python",
   "nbconvert_exporter": "python",
   "pygments_lexer": "ipython3",
   "version": "3.8.5"
  }
 },
 "nbformat": 4,
 "nbformat_minor": 2
}
